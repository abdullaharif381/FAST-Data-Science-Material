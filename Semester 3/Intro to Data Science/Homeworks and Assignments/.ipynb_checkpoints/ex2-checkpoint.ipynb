{
 "cells": [
  {
   "cell_type": "code",
   "execution_count": 1,
   "metadata": {},
   "outputs": [],
   "source": [
    "#Libraries to be used\n",
    "import matplotlib.pyplot as plt\n",
    "import numpy as np\n",
    "import math"
   ]
  },
  {
   "cell_type": "code",
   "execution_count": 21,
   "metadata": {},
   "outputs": [
    {
     "name": "stdout",
     "output_type": "stream",
     "text": [
      "File opened successfully.\n",
      "Data loaded in matrix and vector form.\n"
     ]
    }
   ],
   "source": [
    "try:\n",
    "    filename = \"ex2data2.txt\"\n",
    "    fd = open(filename , 'r')\n",
    "    data = fd.readlines() \n",
    "    print(\"File opened successfully.\")\n",
    "    x = []  \n",
    "    y = []\n",
    "    for i in range(len(data)): \n",
    "        a = data[i].split(',')\n",
    "        index = 0\n",
    "        x.append([float(a[index]), float(a[index+1])])\n",
    "        y.append(int(a[index+2]))\n",
    "except:\n",
    "    print(\"File not opened successfully.\")\n",
    "\n",
    "\n",
    "#Converting lists in to numpy arrays. They are easy to work with.\n",
    "x = np.array(x) \n",
    "y = np.array(y)\n",
    "\n",
    "xtemp=x\n",
    "ytemp=y\n",
    "\n",
    "print(\"Data loaded in matrix and vector form.\")\n",
    "\n",
    "\n",
    "def release_list(a):\n",
    "   del a\n",
    "#deleting previous lists\n",
    "release_list(x)\n",
    "release_list(y)\n",
    "release_list(data)\n",
    "release_list(a)\n"
   ]
  },
  {
   "cell_type": "code",
   "execution_count": 22,
   "metadata": {},
   "outputs": [
    {
     "data": {
      "image/png": "[encoded data removed]",
      "text/plain": [
       "<Figure size 576x432 with 1 Axes>"
      ]
     },
     "metadata": {
      "needs_background": "light"
     },
     "output_type": "display_data"
    }
   ],
   "source": [
    "def plotData(x, y):\n",
    "    positive = y == 1 #Postive will be the array where indices of positive examples are stored.\n",
    "    negative = y == 0    #Negative will be the array where indices of Negative examples are stored.\n",
    "\n",
    "    plt.figure(figsize=(8, 6))\n",
    "\n",
    "    plt.plot(x[positive, 0], x[positive, 1], 'k+')\n",
    "    plt.plot(x[negative, 0], x[negative, 1], 'ko', mfc='y')\n",
    "\n",
    "    plt.xlabel('Exam 1 score')\n",
    "    plt.ylabel('Exam 2 score')\n",
    "    plt.title('Figure 1: Scatter plot of training data')\n",
    "    plt.legend(['Admitted', 'Not admitted']) \n",
    "    \n",
    "plotData(x, y)"
   ]
  },
  {
   "cell_type": "code",
   "execution_count": 23,
   "metadata": {},
   "outputs": [],
   "source": [
    "def mapFeature(x1,x2,degree):\n",
    "    \"\"\"\n",
    "    take in numpy array of x1 and x2, return all polynomial terms up to the given degree\n",
    "    \"\"\"\n",
    "    out = np.ones(len(x1)).reshape(len(x1),1)\n",
    "    for i in range(1,degree+1):\n",
    "        for j in range(i+1):\n",
    "            terms= (x1**(i-j) * x2**j).reshape(len(x1),1)\n",
    "            out= np.hstack((out,terms))\n",
    "    return out\n",
    "X = mapFeature(x[:,0], x[:,1],6)"
   ]
  },
  {
   "cell_type": "code",
   "execution_count": 24,
   "metadata": {},
   "outputs": [],
   "source": [
    "def sigmoid(z):\n",
    "    \"\"\"\n",
    "    return the sigmoid of z\n",
    "    \"\"\"\n",
    "    \n",
    "    return 1/ (1 + np.exp(-z))\n",
    "def costFunctionReg(theta, X, y ,Lambda):\n",
    "    \"\"\"\n",
    "    Take in numpy array of theta, X, and y to return the regularize cost function and gradient\n",
    "    of a logistic regression\n",
    "    \"\"\"\n",
    "    \n",
    "    m=len(y)\n",
    "    y=y[:,np.newaxis]\n",
    "    predictions = sigmoid(X @ theta)\n",
    "    error = (-y * np.log(predictions)) - ((1-y)*np.log(1-predictions))\n",
    "    cost = 1/m * sum(error)\n",
    "    regCost= cost + Lambda/(2*m) * sum(theta**2)\n",
    "    \n",
    "    # compute gradient\n",
    "    j_0= 1/m * (X.transpose() @ (predictions - y))[0]\n",
    "    j_1 = 1/m * (X.transpose() @ (predictions - y))[1:] + (Lambda/m)* theta[1:]\n",
    "    grad= np.vstack((j_0[:,np.newaxis],j_1))\n",
    "    return regCost[0], grad"
   ]
  },
  {
   "cell_type": "code",
   "execution_count": 25,
   "metadata": {},
   "outputs": [
    {
     "name": "stdout",
     "output_type": "stream",
     "text": [
      "Cost at initial theta (zeros): 0.6931471805599461\n"
     ]
    }
   ],
   "source": [
    "# Initialize fitting parameters\n",
    "initial_theta = np.zeros((X.shape[1], 1))\n",
    "# Set regularization parameter lambda to 1\n",
    "Lambda = 1\n",
    "#Compute and display initial cost and gradient for regularized logistic regression\n",
    "cost, grad=costFunctionReg(initial_theta, X, y, Lambda)\n",
    "print(\"Cost at initial theta (zeros):\",cost)"
   ]
  },
  {
   "cell_type": "code",
   "execution_count": 26,
   "metadata": {},
   "outputs": [
    {
     "name": "stdout",
     "output_type": "stream",
     "text": [
      "The regularized theta using ridge regression:\n",
      " [[ 2.25319925]\n",
      " [ 1.44552304]\n",
      " [ 2.33283826]\n",
      " [-3.57008088]\n",
      " [-2.35002923]\n",
      " [-3.07091092]\n",
      " [ 0.501193  ]\n",
      " [-0.88407353]\n",
      " [-0.69606577]\n",
      " [-0.22204479]\n",
      " [-2.69560971]\n",
      " [ 0.04161219]\n",
      " [-1.31573587]\n",
      " [-0.80286334]\n",
      " [-2.23101503]\n",
      " [-0.39638095]\n",
      " [-0.43758121]\n",
      " [ 0.09476682]\n",
      " [-0.69300408]\n",
      " [-0.78996183]\n",
      " [-0.45416785]\n",
      " [-2.01051741]\n",
      " [ 0.16446875]\n",
      " [-0.59855444]\n",
      " [ 0.11471794]\n",
      " [-0.73960036]\n",
      " [-0.52044138]\n",
      " [-1.38532251]]\n"
     ]
    }
   ],
   "source": [
    "def gradientDescent(X,y,theta,alpha,num_iters,Lambda):\n",
    "    \"\"\"\n",
    "    Take in numpy array X, y and theta and update theta by taking num_iters gradient steps\n",
    "    with learning rate of alpha\n",
    "    \n",
    "    return theta and the list of the cost of theta during each iteration\n",
    "    \"\"\"\n",
    "    \n",
    "    m=len(y)\n",
    "    J_history =[]\n",
    "    \n",
    "    for i in range(num_iters):\n",
    "        cost, grad = costFunctionReg(theta,X,y,Lambda)\n",
    "        theta = theta - (alpha * grad)\n",
    "        J_history.append(cost)\n",
    "    \n",
    "    return theta , J_history\n",
    "theta , J_history = gradientDescent(X,y,initial_theta,1,800,0.2)\n",
    "print(\"The regularized theta using ridge regression:\\n\",theta)"
   ]
  },
  {
   "cell_type": "code",
   "execution_count": 27,
   "metadata": {},
   "outputs": [
    {
     "name": "stderr",
     "output_type": "stream",
     "text": [
      "No handles with labels found to put in legend.\n"
     ]
    },
    {
     "data": {
      "text/plain": [
       "<matplotlib.legend.Legend at 0x20286e2d490>"
      ]
     },
     "execution_count": 27,
     "metadata": {},
     "output_type": "execute_result"
    },
    {
     "data": {
      "image/png": "[encoded data removed]",
      "text/plain": [
       "<Figure size 432x288 with 1 Axes>"
      ]
     },
     "metadata": {
      "needs_background": "light"
     },
     "output_type": "display_data"
    }
   ],
   "source": [
    "def mapFeaturePlot(x1,x2,degree):\n",
    "    \"\"\"\n",
    "    take in numpy array of x1 and x2, return all polynomial terms up to the given degree\n",
    "    \"\"\"\n",
    "    out = np.ones(1)\n",
    "    for i in range(1,degree+1):\n",
    "        for j in range(i+1):\n",
    "            terms= (x1**(i-j) * x2**j)\n",
    "            out= np.hstack((out,terms))\n",
    "    return out\n",
    "\n",
    "positive = y == 1\n",
    "negative = y == 0\n",
    "\n",
    "plt.plot(x[positive, 0], x[positive, 1], 'k+', )\n",
    "plt.plot(x[negative, 0], x[negative, 1], 'ko', mfc='y')\n",
    "\n",
    "# Plotting decision boundary\n",
    "u_vals = np.linspace(-1,1.5,50)\n",
    "v_vals= np.linspace(-1,1.5,50)\n",
    "z=np.zeros((len(u_vals),len(v_vals)))\n",
    "for i in range(len(u_vals)):\n",
    "    for j in range(len(v_vals)):\n",
    "        z[i,j] =mapFeaturePlot(u_vals[i],v_vals[j],6) @ theta\n",
    "plt.contour(u_vals,v_vals,z.T,0)\n",
    "plt.xlabel(\"Exam 1 score\")\n",
    "plt.ylabel(\"Exam 2 score\")\n",
    "plt.legend(loc=0)"
   ]
  }
 ],
 "metadata": {
  "interpreter": {
   "hash": "f18eb818c12c897c7cd6a9334b0d035f3a97139767af1d2a6f86b303032099af"
  },
  "kernelspec": {
   "display_name": "Python 3",
   "language": "python",
   "name": "python3"
  },
  "language_info": {
   "codemirror_mode": {
    "name": "ipython",
    "version": 3
   },
   "file_extension": ".py",
   "mimetype": "text/x-python",
   "name": "python",
   "nbconvert_exporter": "python",
   "pygments_lexer": "ipython3",
   "version": "3.8.8"
  }
 },
 "nbformat": 4,
 "nbformat_minor": 2
}
