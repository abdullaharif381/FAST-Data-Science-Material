{
 "cells": [
  {
   "cell_type": "markdown",
   "metadata": {},
   "source": [
    "Name: Fatima Azfar<br>\n",
    "Roll No: 20L-1027<br>\n",
    "Section: BDS-8A<br>"
   ]
  },
  {
   "cell_type": "markdown",
   "metadata": {},
   "source": [
    "# AlexNet"
   ]
  },
  {
   "cell_type": "code",
   "execution_count": 3,
   "metadata": {},
   "outputs": [],
   "source": [
    "import tensorflow as tf\n",
    "from tensorflow.keras.models import Sequential\n",
    "from tensorflow.keras.layers import Conv2D, MaxPooling2D, Dropout, BatchNormalization, Dense, Flatten\n",
    "\n",
    "model = Sequential([\n",
    "        # Conv 1\n",
    "        Conv2D(filters=96, kernel_size=(11, 11), strides=(4, 4), activation='relu', input_shape=(227, 227, 3), padding='valid'),\n",
    "        BatchNormalization(),\n",
    "        \n",
    "        # Max Pool 1\n",
    "        MaxPooling2D(pool_size=(3, 3), strides=(2, 2), padding='valid'),\n",
    "        \n",
    "        # Conv 2\n",
    "        Conv2D(filters=256, kernel_size=(5, 5), strides=(1, 1), activation='relu', padding='same'),\n",
    "        BatchNormalization(),\n",
    "        \n",
    "        # Max Pool 2\n",
    "        MaxPooling2D(pool_size=(3, 3), strides=(2, 2), padding='valid'),\n",
    "        \n",
    "        # Conv 3\n",
    "        Conv2D(filters=384, kernel_size=(3, 3), strides=(1, 1), activation='relu', padding='same'),\n",
    "        BatchNormalization(),\n",
    "\n",
    "        # Conv 4\n",
    "        Conv2D(filters=384, kernel_size=(3, 3), strides=(1, 1), activation='relu', padding='same'),\n",
    "        BatchNormalization(),\n",
    "\n",
    "        # Conv 5\n",
    "        Conv2D(filters=256, kernel_size=(3, 3), strides=(1, 1), activation='relu', padding='same'),\n",
    "        BatchNormalization(),\n",
    "        \n",
    "        # Max Pool 3\n",
    "        MaxPooling2D(pool_size=(3, 3), strides=(2, 2), padding='valid'),\n",
    "        \n",
    "        # Flattening\n",
    "        Flatten(),\n",
    "        \n",
    "        # Dense Layer 1\n",
    "        Dense(units=4096, activation='relu'),\n",
    "        Dropout(0.5),\n",
    "        \n",
    "        # Dense Layer 2\n",
    "        Dense(units=4096, activation='relu'),\n",
    "        Dropout(0.5),\n",
    "        \n",
    "        # Dense Layer 3\n",
    "        Dense(units=1000, activation='relu'),\n",
    "        Dropout(0.5),\n",
    "        \n",
    "        # Output Layer\n",
    "        Dense(units=11, activation='softmax')\n",
    "    ])"
   ]
  }
 ],
 "metadata": {
  "kernelspec": {
   "display_name": "base",
   "language": "python",
   "name": "python3"
  },
  "language_info": {
   "codemirror_mode": {
    "name": "ipython",
    "version": 3
   },
   "file_extension": ".py",
   "mimetype": "text/x-python",
   "name": "python",
   "nbconvert_exporter": "python",
   "pygments_lexer": "ipython3",
   "version": "3.11.3"
  }
 },
 "nbformat": 4,
 "nbformat_minor": 2
}
