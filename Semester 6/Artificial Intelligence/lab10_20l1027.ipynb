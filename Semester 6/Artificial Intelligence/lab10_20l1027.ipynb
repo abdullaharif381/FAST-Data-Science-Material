{
 "cells": [
  {
   "cell_type": "code",
   "execution_count": 4,
   "metadata": {},
   "outputs": [],
   "source": [
    "import pandas as pd\n",
    "import random\n",
    "import numpy as np\n",
    "import matplotlib.pyplot as plt\n",
    "from sklearn.datasets import make_blobs\n",
    "from sklearn.preprocessing import StandardScaler\n",
    "import random"
   ]
  },
  {
   "cell_type": "code",
   "execution_count": 5,
   "metadata": {},
   "outputs": [],
   "source": [
    "def kmeans(x, y, num_clusters):\n",
    "    \n",
    "    centroids_x = random.sample(list(x), num_clusters)\n",
    "    centroids_y = random.sample(list(y), num_clusters)\n",
    "    centroids = list(zip(centroids_x, centroids_y))\n",
    "\n",
    "    while True:\n",
    "        clusters = {}\n",
    "        for i in range(num_clusters):\n",
    "            cluster_name = f'Cluster {i+1}'\n",
    "            clusters[cluster_name] = []\n",
    "        for x_i, y_i in zip(x, y):\n",
    "            closest_centroid = centroids[np.argmin([np.sqrt((x_i-c[0])**2 + (y_i-c[1])**2) for c in centroids])]\n",
    "            closest_centroid_index = centroids.index(closest_centroid)\n",
    "            clusters[f'Cluster {closest_centroid_index+1}'].append((x_i, y_i))\n",
    "        \n",
    "        new_centroids = []\n",
    "        for cluster in clusters.values():\n",
    "            if cluster:\n",
    "                new_centroids.append((np.mean([c[0] for c in cluster]), np.mean([c[1] for c in cluster])))\n",
    "            else:\n",
    "                new_centroids.append(centroids[clusters.values().index(cluster)])\n",
    "        \n",
    "        if set(new_centroids) == set(centroids):\n",
    "            break\n",
    "        centroids = new_centroids\n",
    "\n",
    "    return clusters"
   ]
  },
  {
   "cell_type": "code",
   "execution_count": 17,
   "metadata": {},
   "outputs": [],
   "source": [
    "data = make_blobs(n_samples=300, centers=4, n_features=2, random_state=42)\n",
    "scaler = StandardScaler()\n",
    "data_scaled = scaler.fit_transform(data[0])"
   ]
  },
  {
   "cell_type": "code",
   "execution_count": 18,
   "metadata": {},
   "outputs": [
    {
     "data": {
      "text/html": [
       "<div>\n",
       "<style scoped>\n",
       "    .dataframe tbody tr th:only-of-type {\n",
       "        vertical-align: middle;\n",
       "    }\n",
       "\n",
       "    .dataframe tbody tr th {\n",
       "        vertical-align: top;\n",
       "    }\n",
       "\n",
       "    .dataframe thead th {\n",
       "        text-align: right;\n",
       "    }\n",
       "</style>\n",
       "<table border=\"1\" class=\"dataframe\">\n",
       "  <thead>\n",
       "    <tr style=\"text-align: right;\">\n",
       "      <th></th>\n",
       "      <th>0</th>\n",
       "      <th>1</th>\n",
       "    </tr>\n",
       "  </thead>\n",
       "  <tbody>\n",
       "    <tr>\n",
       "      <th>0</th>\n",
       "      <td>-1.116190</td>\n",
       "      <td>0.583772</td>\n",
       "    </tr>\n",
       "    <tr>\n",
       "      <th>1</th>\n",
       "      <td>-1.192142</td>\n",
       "      <td>0.658633</td>\n",
       "    </tr>\n",
       "    <tr>\n",
       "      <th>2</th>\n",
       "      <td>0.325204</td>\n",
       "      <td>0.796111</td>\n",
       "    </tr>\n",
       "    <tr>\n",
       "      <th>3</th>\n",
       "      <td>-0.699477</td>\n",
       "      <td>-1.387959</td>\n",
       "    </tr>\n",
       "    <tr>\n",
       "      <th>4</th>\n",
       "      <td>-1.415179</td>\n",
       "      <td>0.558312</td>\n",
       "    </tr>\n",
       "    <tr>\n",
       "      <th>...</th>\n",
       "      <td>...</td>\n",
       "      <td>...</td>\n",
       "    </tr>\n",
       "    <tr>\n",
       "      <th>295</th>\n",
       "      <td>-0.048549</td>\n",
       "      <td>1.052981</td>\n",
       "    </tr>\n",
       "    <tr>\n",
       "      <th>296</th>\n",
       "      <td>1.366339</td>\n",
       "      <td>-0.230452</td>\n",
       "    </tr>\n",
       "    <tr>\n",
       "      <th>297</th>\n",
       "      <td>-0.135000</td>\n",
       "      <td>1.022241</td>\n",
       "    </tr>\n",
       "    <tr>\n",
       "      <th>298</th>\n",
       "      <td>-1.025707</td>\n",
       "      <td>0.990230</td>\n",
       "    </tr>\n",
       "    <tr>\n",
       "      <th>299</th>\n",
       "      <td>-0.864507</td>\n",
       "      <td>0.938616</td>\n",
       "    </tr>\n",
       "  </tbody>\n",
       "</table>\n",
       "<p>300 rows × 2 columns</p>\n",
       "</div>"
      ],
      "text/plain": [
       "            0         1\n",
       "0   -1.116190  0.583772\n",
       "1   -1.192142  0.658633\n",
       "2    0.325204  0.796111\n",
       "3   -0.699477 -1.387959\n",
       "4   -1.415179  0.558312\n",
       "..        ...       ...\n",
       "295 -0.048549  1.052981\n",
       "296  1.366339 -0.230452\n",
       "297 -0.135000  1.022241\n",
       "298 -1.025707  0.990230\n",
       "299 -0.864507  0.938616\n",
       "\n",
       "[300 rows x 2 columns]"
      ]
     },
     "execution_count": 18,
     "metadata": {},
     "output_type": "execute_result"
    }
   ],
   "source": [
    "df = pd.DataFrame(data_scaled)\n",
    "df"
   ]
  },
  {
   "cell_type": "code",
   "execution_count": 8,
   "metadata": {},
   "outputs": [
    {
     "data": {
      "text/plain": [
       "<matplotlib.collections.PathCollection at 0x24ac0549d90>"
      ]
     },
     "execution_count": 8,
     "metadata": {},
     "output_type": "execute_result"
    },
    {
     "data": {
      "image/png": "[encoded data removed]",
      "text/plain": [
       "<Figure size 432x288 with 1 Axes>"
      ]
     },
     "metadata": {
      "needs_background": "light"
     },
     "output_type": "display_data"
    }
   ],
   "source": [
    "plt.scatter(df[0],df[1])"
   ]
  },
  {
   "cell_type": "code",
   "execution_count": 12,
   "metadata": {},
   "outputs": [],
   "source": [
    "clusters = kmeans(df[0],df[1],4)"
   ]
  },
  {
   "cell_type": "code",
   "execution_count": 13,
   "metadata": {},
   "outputs": [
    {
     "data": {
      "image/png": "[encoded data removed]",
      "text/plain": [
       "<Figure size 432x288 with 1 Axes>"
      ]
     },
     "metadata": {
      "needs_background": "light"
     },
     "output_type": "display_data"
    }
   ],
   "source": [
    "fig, ax = plt.subplots()\n",
    "\n",
    "colors = ['red', 'blue', 'orange', 'purple']\n",
    "\n",
    "for i, cluster in enumerate(clusters):\n",
    "    x, y = zip(*clusters[cluster])\n",
    "    ax.scatter(x, y, c=colors[i], label=cluster)\n",
    "\n",
    "ax.legend()\n",
    "plt.show()"
   ]
  },
  {
   "cell_type": "code",
   "execution_count": 14,
   "metadata": {},
   "outputs": [],
   "source": [
    "def kmedoids(X, k, max_iterations=100):\n",
    "\n",
    "    medoids = X[np.random.choice(X.shape[0], k, replace=False), :]\n",
    "\n",
    "    for i in range(max_iterations):\n",
    "        distances = np.abs(X[:, np.newaxis, :] - medoids[np.newaxis, :, :]).sum(axis=-1)\n",
    "        clusters = np.argmin(distances, axis=1)\n",
    "\n",
    "        for j in range(k):\n",
    "            cluster_j = X[clusters == j, :]\n",
    "            cost_j = np.sum(np.abs(cluster_j[:, np.newaxis, :] - cluster_j[np.newaxis, :, :]).sum(axis=-1), axis=1)\n",
    "            medoid_j = cluster_j[np.argmin(cost_j), :]\n",
    "            medoids[j, :] = medoid_j\n",
    "\n",
    "    return medoids, clusters"
   ]
  },
  {
   "cell_type": "code",
   "execution_count": 22,
   "metadata": {},
   "outputs": [
    {
     "data": {
      "image/png": "[encoded data removed]",
      "text/plain": [
       "<Figure size 432x288 with 1 Axes>"
      ]
     },
     "metadata": {
      "needs_background": "light"
     },
     "output_type": "display_data"
    }
   ],
   "source": [
    "medoids, clusters = kmedoids(data_scaled, 4)\n",
    "colors = ['r', 'g', 'b', 'c', 'm', 'y', 'k']\n",
    "\n",
    "for i in range(4):\n",
    "    cluster_i = data_scaled[clusters == i, :]\n",
    "    plt.scatter(cluster_i[:, 0], cluster_i[:, 1], c=colors[i], label='Cluster {}'.format(i+1))\n",
    "\n",
    "plt.scatter(medoids[:, 0], medoids[:, 1], c='k', marker='x', label='Medoids')\n",
    "plt.legend()\n",
    "plt.title('K-medoids Clustering')\n",
    "plt.xlabel('Feature 1')\n",
    "plt.ylabel('Feature 2')\n",
    "plt.show()"
   ]
  }
 ],
 "metadata": {
  "kernelspec": {
   "display_name": "base",
   "language": "python",
   "name": "python3"
  },
  "language_info": {
   "codemirror_mode": {
    "name": "ipython",
    "version": 3
   },
   "file_extension": ".py",
   "mimetype": "text/x-python",
   "name": "python",
   "nbconvert_exporter": "python",
   "pygments_lexer": "ipython3",
   "version": "3.8.8"
  },
  "orig_nbformat": 4
 },
 "nbformat": 4,
 "nbformat_minor": 2
}
