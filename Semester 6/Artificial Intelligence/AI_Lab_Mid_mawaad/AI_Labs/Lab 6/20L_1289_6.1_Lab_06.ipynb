{
 "cells": [
  {
   "cell_type": "code",
   "execution_count": 1,
   "metadata": {},
   "outputs": [],
   "source": [
    "# Importing the required libraries\n",
    "import numpy as np\n",
    "import matplotlib.pyplot as plt"
   ]
  },
  {
   "attachments": {},
   "cell_type": "markdown",
   "metadata": {},
   "source": [
    "**Activation Function**"
   ]
  },
  {
   "cell_type": "code",
   "execution_count": 2,
   "metadata": {},
   "outputs": [],
   "source": [
    "# Defining the activation function\n",
    "def activation(x):          # x is the input to the activation function\n",
    "    if x >= 0:              # if x is greater than or equal to 0\n",
    "        return 1            # return 1\n",
    "    else:                   # else\n",
    "        return 0            # return 0"
   ]
  },
  {
   "attachments": {},
   "cell_type": "markdown",
   "metadata": {},
   "source": [
    "**Single Neuron Perceptron**"
   ]
  },
  {
   "cell_type": "code",
   "execution_count": 3,
   "metadata": {},
   "outputs": [],
   "source": [
    "# Defining the perceptron class\n",
    "class Perceptron(object):\n",
    "    def __init__(self, no_of_inputs, iterations=100, learning_rate=0.01):\n",
    "        self.iterations = iterations                        # Number of iterations\n",
    "        self.learning_rate = learning_rate                  # Learning rate\n",
    "        self.weights = np.zeros(no_of_inputs + 1)           # +1 for bias\n",
    "        \n",
    "    def predict(self, inputs):\n",
    "        summation = np.dot(inputs, self.weights[1:]) + self.weights[0]          # Summation of inputs and weights\n",
    "        return activation(summation)                                            # Activation function\n",
    "    \n",
    "    def train(self, training_inputs, labels):\n",
    "        for _ in range(self.iterations):                            # Iterating through the number of iterations\n",
    "            for inputs, label in zip(training_inputs, labels):      # Iterating through the training inputs and labels \n",
    "                prediction = self.predict(inputs)                                           # Prediction\n",
    "                self.weights[1:] += self.learning_rate * (label - prediction) * inputs      # Updating the weights\n",
    "                self.weights[0] += self.learning_rate * (label - prediction)                # Updating the bias"
   ]
  },
  {
   "attachments": {},
   "cell_type": "markdown",
   "metadata": {},
   "source": [
    "**OR GATE**"
   ]
  },
  {
   "cell_type": "code",
   "execution_count": 4,
   "metadata": {},
   "outputs": [],
   "source": [
    "# Defining the training inputs\n",
    "training_inputs = []\n",
    "training_inputs.append(np.array([0,0]))\n",
    "training_inputs.append(np.array([0,1]))\n",
    "training_inputs.append(np.array([1,0]))\n",
    "training_inputs.append(np.array([1,1]))\n",
    "\n",
    "# Defining the labels\n",
    "labels = np.array([0,1,1,1])\n",
    "\n",
    "# Training the perceptron\n",
    "perceptron_OR = Perceptron(2)                       # Creating an object of the perceptron class with 2 inputs\n",
    "perceptron_OR.train(training_inputs, labels)        # Training the perceptron"
   ]
  },
  {
   "cell_type": "code",
   "execution_count": 5,
   "metadata": {},
   "outputs": [
    {
     "name": "stdout",
     "output_type": "stream",
     "text": [
      "1\n",
      "0\n",
      "1\n",
      "1\n"
     ]
    }
   ],
   "source": [
    "# Testing the perceptron\n",
    "inputs = np.array([1,1])\n",
    "print(perceptron_OR.predict(inputs)) # should give 1\n",
    "\n",
    "# Testing the perceptron\n",
    "inputs = np.array([0,0])\n",
    "print(perceptron_OR.predict(inputs)) # should give 0\n",
    "\n",
    "# Testing the perceptron\n",
    "inputs = np.array([0,1])\n",
    "print(perceptron_OR.predict(inputs)) # should give 1\n",
    "\n",
    "# Testing the perceptron\n",
    "inputs = np.array([1,0])\n",
    "print(perceptron_OR.predict(inputs)) # should give 1"
   ]
  },
  {
   "cell_type": "code",
   "execution_count": 6,
   "metadata": {},
   "outputs": [
    {
     "data": {
      "image/png": "[encoded data removed]",
      "text/plain": [
       "<Figure size 640x480 with 1 Axes>"
      ]
     },
     "metadata": {},
     "output_type": "display_data"
    }
   ],
   "source": [
    "# visualizing the perceptron\n",
    "x = np.linspace(-1, 2, 100)\n",
    "y = -(perceptron_OR.weights[0] + perceptron_OR.weights[1]*x)/perceptron_OR.weights[2]\n",
    "plt.plot(x, y, 'r')\n",
    "plt.scatter(0, 0, c='b')\n",
    "plt.scatter(0, 1, c='b')\n",
    "plt.scatter(1, 0, c='b')\n",
    "plt.scatter(1, 1, c='b')\n",
    "plt.show()"
   ]
  },
  {
   "attachments": {},
   "cell_type": "markdown",
   "metadata": {},
   "source": [
    "**AND GATE**"
   ]
  },
  {
   "cell_type": "code",
   "execution_count": 7,
   "metadata": {},
   "outputs": [],
   "source": [
    "perceptron_AND = Perceptron(2)\n",
    "\n",
    "# Defining the training inputs\n",
    "training_inputs = []\n",
    "training_inputs.append(np.array([0,0]))\n",
    "training_inputs.append(np.array([0,1]))\n",
    "training_inputs.append(np.array([1,0]))\n",
    "training_inputs.append(np.array([1,1]))\n",
    "\n",
    "# Defining the labels\n",
    "labels = np.array([0,0,0,1])\n",
    "\n",
    "# Training the perceptron\n",
    "perceptron_AND.train(training_inputs, labels)"
   ]
  },
  {
   "cell_type": "code",
   "execution_count": 8,
   "metadata": {},
   "outputs": [
    {
     "name": "stdout",
     "output_type": "stream",
     "text": [
      "1\n",
      "0\n",
      "0\n",
      "0\n"
     ]
    }
   ],
   "source": [
    "# Testing the perceptron\n",
    "inputs = np.array([1,1])\n",
    "print(perceptron_AND.predict(inputs)) # should give 1\n",
    "\n",
    "# Testing the perceptron\n",
    "inputs = np.array([0,0])\n",
    "print(perceptron_AND.predict(inputs)) # should give 0\n",
    "\n",
    "# Testing the perceptron\n",
    "inputs = np.array([0,1])\n",
    "print(perceptron_AND.predict(inputs)) # should give 0\n",
    "\n",
    "# Testing the perceptron\n",
    "inputs = np.array([1,0])\n",
    "print(perceptron_AND.predict(inputs)) # should give 0"
   ]
  },
  {
   "cell_type": "code",
   "execution_count": 9,
   "metadata": {},
   "outputs": [
    {
     "data": {
      "image/png": "[encoded data removed]",
      "text/plain": [
       "<Figure size 640x480 with 1 Axes>"
      ]
     },
     "metadata": {},
     "output_type": "display_data"
    }
   ],
   "source": [
    "#visualizing the perceptron\n",
    "x = np.linspace(-1, 2, 100)\n",
    "y = -(perceptron_AND.weights[0] + perceptron_AND.weights[1]*x)/perceptron_AND.weights[2]\n",
    "plt.plot(x, y, 'r')\n",
    "plt.scatter(0, 0, c='b')\n",
    "plt.scatter(0, 1, c='b')\n",
    "plt.scatter(1, 0, c='b')\n",
    "plt.scatter(1, 1, c='b')\n",
    "plt.show()"
   ]
  }
 ],
 "metadata": {
  "kernelspec": {
   "display_name": "base",
   "language": "python",
   "name": "python3"
  },
  "language_info": {
   "codemirror_mode": {
    "name": "ipython",
    "version": 3
   },
   "file_extension": ".py",
   "mimetype": "text/x-python",
   "name": "python",
   "nbconvert_exporter": "python",
   "pygments_lexer": "ipython3",
   "version": "3.9.13"
  },
  "orig_nbformat": 4
 },
 "nbformat": 4,
 "nbformat_minor": 2
}
