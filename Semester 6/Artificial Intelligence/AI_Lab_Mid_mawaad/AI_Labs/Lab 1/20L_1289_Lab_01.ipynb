{
  "nbformat": 4,
  "nbformat_minor": 0,
  "metadata": {
    "colab": {
      "provenance": []
    },
    "kernelspec": {
      "name": "python3",
      "display_name": "Python 3"
    },
    "language_info": {
      "name": "python"
    }
  },
  "cells": [
    {
      "cell_type": "markdown",
      "source": [
        "**Name: Mohammad Anas**\n",
        "\n",
        "**Roll No: 20L-1289**\n",
        "\n",
        "**Section: BDS-6A1** "
      ],
      "metadata": {
        "id": "xQEeU7RyY4N-"
      }
    },
    {
      "cell_type": "markdown",
      "source": [
        "Basic Python Practice"
      ],
      "metadata": {
        "id": "uUeAYvNPZF53"
      }
    },
    {
      "cell_type": "code",
      "execution_count": 1,
      "metadata": {
        "colab": {
          "base_uri": "https://localhost:8080/"
        },
        "id": "aTAEwYqhUbvd",
        "outputId": "5091c82f-189a-46e9-d5ee-106e445b0cee"
      },
      "outputs": [
        {
          "output_type": "stream",
          "name": "stdout",
          "text": [
            "Data Type of num_int: <class 'int'>\n",
            "Data Type of num_str before type casting: <class 'str'>\n",
            "Data Type of num_str after type casting: <class 'int'>\n",
            "Sum of num_int and num_str: 579\n",
            "Data type of the sum: <class 'int'>\n"
          ]
        }
      ],
      "source": [
        "# Sum two numbers using typecast \n",
        "num_int = 123\n",
        "num_str = '456'\n",
        "print('Data Type of num_int:', type(num_int))\n",
        "print('Data Type of num_str before type casting:', type(num_str))\n",
        "num_str = int(num_str)\n",
        "print('Data Type of num_str after type casting:', type(num_str))\n",
        "num_sum = num_int + num_str\n",
        "print('Sum of num_int and num_str:', num_sum)\n",
        "print('Data type of the sum:', type(num_sum))\n"
      ]
    },
    {
      "cell_type": "code",
      "source": [
        "name='Alice'\n",
        "if name=='Alice':\n",
        "  print('Hi, Alice!')\n",
        "elif name=='Anas':\n",
        "  print('Hello, Anas')\n",
        "else:\n",
        "  print(\"Not ALice\")"
      ],
      "metadata": {
        "colab": {
          "base_uri": "https://localhost:8080/"
        },
        "id": "0LqhQpu9VLYt",
        "outputId": "ffd33d56-d3fc-4321-ae0d-512c5264f1c7"
      },
      "execution_count": 2,
      "outputs": [
        {
          "output_type": "stream",
          "name": "stdout",
          "text": [
            "Hi, Alice!\n"
          ]
        }
      ]
    },
    {
      "cell_type": "markdown",
      "source": [
        "**LAB 1 EXERCISES**"
      ],
      "metadata": {
        "id": "6pE2o30MZLoP"
      }
    },
    {
      "cell_type": "markdown",
      "source": [
        "**9.1 Reverse String**"
      ],
      "metadata": {
        "id": "7Mf8zsmjYoSn"
      }
    },
    {
      "cell_type": "code",
      "source": [
        "# Function to reverse a list of characters.\n",
        "def reverse_list(n):\n",
        "  result = n[::-1]\n",
        "  return result\n",
        "\n",
        "string_input = ['A', 'n', 'a', 's']\n",
        "print(\"Input string:\", string_input)\n",
        "print(\"Output:\", reverse_list(string_input))    #using list indexing"
      ],
      "metadata": {
        "colab": {
          "base_uri": "https://localhost:8080/"
        },
        "id": "7FRp7hrGVvJU",
        "outputId": "d1973df3-9d9b-41ec-af34-3f00748d74c1"
      },
      "execution_count": 10,
      "outputs": [
        {
          "output_type": "stream",
          "name": "stdout",
          "text": [
            "Input string: ['A', 'n', 'a', 's']\n",
            "Output: ['s', 'a', 'n', 'A']\n"
          ]
        }
      ]
    },
    {
      "cell_type": "markdown",
      "source": [
        "**9.2 Valid Palindrome**"
      ],
      "metadata": {
        "id": "9DOcLmPUYuLm"
      }
    },
    {
      "cell_type": "code",
      "source": [
        "# function to find if a string is palindrome or not.\n",
        "def isPalindrome_nonRecursive(string):\n",
        "    return string == string[::-1]\n",
        "\n",
        "s = input(\"Please input a string: \")\n",
        "s = s.lower() #- converts a string to lowercase\n",
        "s = s.replace(\" \", \"\") #- removes all spaces from a string\n",
        "s = s.replace(\",\", \"\") #- removes all commas from a string\n",
        "s = s.replace(\".\", \"\") #- removes all periods from a string\n",
        "s = s.replace(\":\", \"\") #- removes all colons from a string\n",
        "s = s.replace(\";\", \"\") #- removes all semi-colons from a string\n",
        "\n",
        "if (isPalindrome_nonRecursive(s)):\n",
        "    print(\"Yes\")\n",
        "else:\n",
        "    print(\"No\")"
      ],
      "metadata": {
        "colab": {
          "base_uri": "https://localhost:8080/"
        },
        "id": "3CY-tgsBWGLk",
        "outputId": "4ac47aee-4b23-4e73-ed89-eea767b00301"
      },
      "execution_count": 8,
      "outputs": [
        {
          "output_type": "stream",
          "name": "stdout",
          "text": [
            "Please input a string: tenet\n",
            "Yes\n"
          ]
        }
      ]
    },
    {
      "cell_type": "markdown",
      "source": [
        "**9.3 Sqrt(x) without any built-in methods**"
      ],
      "metadata": {
        "id": "DZ7r8Vy-YwWG"
      }
    },
    {
      "cell_type": "code",
      "source": [
        "# function to find a the square root of a number\n",
        "def sqrt(n):\n",
        "  sqrt_result = n**(1/2)\n",
        "  return sqrt_result\n",
        "\n",
        "num = int(input(\"Please enter a number:\"))\n",
        "print(\"Sqaure root of\", num, \"=\", sqrt(num))\n"
      ],
      "metadata": {
        "colab": {
          "base_uri": "https://localhost:8080/"
        },
        "id": "276MHhQSXHFL",
        "outputId": "f6448973-f202-4ae5-ba66-31a2864ae226"
      },
      "execution_count": 9,
      "outputs": [
        {
          "output_type": "stream",
          "name": "stdout",
          "text": [
            "Please enter a number:16\n",
            "Sqaure root of 16 = 4.0\n"
          ]
        }
      ]
    }
  ]
}