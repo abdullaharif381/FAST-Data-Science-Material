{
  "nbformat": 4,
  "nbformat_minor": 0,
  "metadata": {
    "colab": {
      "provenance": []
    },
    "kernelspec": {
      "name": "python3",
      "display_name": "Python 3"
    },
    "language_info": {
      "name": "python"
    }
  },
  "cells": [
    {
      "cell_type": "markdown",
      "source": [
        "**Name: Mohammad Anas**\n",
        "\n",
        "**Roll Number: 20L-1289**\n",
        "\n",
        "**Class: BDS-6A1**"
      ],
      "metadata": {
        "id": "M96d6tCUmC5N"
      }
    },
    {
      "cell_type": "code",
      "execution_count": 56,
      "metadata": {
        "colab": {
          "base_uri": "https://localhost:8080/"
        },
        "id": "dl6trOFNbPja",
        "outputId": "10c07e80-2326-4377-dc4f-dd820e81d0c7"
      },
      "outputs": [
        {
          "output_type": "stream",
          "name": "stdout",
          "text": [
            "Number of chickens: 3\n",
            "Number of chickens: many\n",
            "Number of chickens: many\n"
          ]
        }
      ],
      "source": [
        "# Q1\n",
        "def count_chickens(chicken_count):\n",
        "    if chicken_count < 10:\n",
        "        return f\"Number of chickens: {chicken_count}\"\n",
        "    else:\n",
        "        return \"Number of chickens: many\"\n",
        "\n",
        "print(count_chickens(3))\n",
        "print(count_chickens(130))\n",
        "print(count_chickens(21))"
      ]
    },
    {
      "cell_type": "code",
      "source": [
        "# Q2\n",
        "def extract_ends(str_val):\n",
        "    if len(str_val) < 3:\n",
        "        return ''\n",
        "    else:\n",
        "        return str_val[:3] + str_val[-3:]\n",
        "\n",
        "print(extract_ends('Intelligence'))"
      ],
      "metadata": {
        "colab": {
          "base_uri": "https://localhost:8080/"
        },
        "id": "kBLZxvxIbzik",
        "outputId": "804b92cb-6cef-4f9b-bc74-55f3708258c7"
      },
      "execution_count": 35,
      "outputs": [
        {
          "output_type": "stream",
          "name": "stdout",
          "text": [
            "Intnce\n"
          ]
        }
      ]
    },
    {
      "cell_type": "code",
      "source": [
        "# Q3\n",
        "def replace_char_with_at_symbol(str_val):\n",
        "    first_char = str_val[0]\n",
        "    return first_char + str_val[1:].replace(first_char.lower(), '@')\n",
        "\n",
        "input_str = 'Ooogle'\n",
        "new_str = replace_char_with_at_symbol(input_str)\n",
        "print(new_str)  # prints 'O@@gle'\n"
      ],
      "metadata": {
        "colab": {
          "base_uri": "https://localhost:8080/"
        },
        "id": "-M5S6qW6cBRl",
        "outputId": "600df936-be17-4f9c-fd9b-ba27e4b6ba84"
      },
      "execution_count": 36,
      "outputs": [
        {
          "output_type": "stream",
          "name": "stdout",
          "text": [
            "O@@gle\n"
          ]
        }
      ]
    },
    {
      "cell_type": "code",
      "source": [
        "# Q4\n",
        "def shuffle_strings(str_a, str_b):\n",
        "    return str_b[:2] + str_a[2:] + ' ' + str_a[:2] + str_b[2:]\n",
        "\n",
        "print(shuffle_strings('mix', 'pod'))  # prints 'pox mid'\n",
        "print(shuffle_strings('dog', 'dinner'))  # prints 'dig donner'"
      ],
      "metadata": {
        "colab": {
          "base_uri": "https://localhost:8080/"
        },
        "id": "21CsqnYacP7f",
        "outputId": "623b9606-4548-4884-aabd-686edd510969"
      },
      "execution_count": 37,
      "outputs": [
        {
          "output_type": "stream",
          "name": "stdout",
          "text": [
            "pox mid\n",
            "dig donner\n"
          ]
        }
      ]
    },
    {
      "cell_type": "code",
      "source": [
        "# Q5\n",
        "def count_words_with_matching_ends(word_list):\n",
        "    count = 0\n",
        "    for word in word_list:\n",
        "        if len(word) > 1 and word[0] == word[-1]:\n",
        "            count += 1\n",
        "    return count\n",
        "\n",
        "print(count_words_with_matching_ends(['aba', 'ana', 'anas', 'Hello', 'bnddbd']))"
      ],
      "metadata": {
        "colab": {
          "base_uri": "https://localhost:8080/"
        },
        "id": "s6wxEv59cVw2",
        "outputId": "2169ab52-a4fb-4484-832b-83d5ea893fee"
      },
      "execution_count": 38,
      "outputs": [
        {
          "output_type": "stream",
          "name": "stdout",
          "text": [
            "2\n"
          ]
        }
      ]
    },
    {
      "cell_type": "code",
      "source": [
        "# Q6\n",
        "def separate_x_and_a_words(word_list):\n",
        "    word_list.sort()\n",
        "    a_words = []\n",
        "    other_words = []\n",
        "    for word in word_list:\n",
        "        if word[0] == 'a':\n",
        "            a_words.append(word)\n",
        "        else:\n",
        "            other_words.append(word)\n",
        "    return a_words + other_words\n",
        "\n",
        "print(separate_x_and_a_words(['mix', 'xyz', 'apple', 'xanadu', 'aardvark']))"
      ],
      "metadata": {
        "colab": {
          "base_uri": "https://localhost:8080/"
        },
        "id": "aVfIh9ktcs6q",
        "outputId": "f2b8d8d8-ed78-4ed6-a1ea-e4458aef3eee"
      },
      "execution_count": 39,
      "outputs": [
        {
          "output_type": "stream",
          "name": "stdout",
          "text": [
            "['aardvark', 'apple', 'mix', 'xanadu', 'xyz']\n"
          ]
        }
      ]
    },
    {
      "cell_type": "code",
      "source": [
        "# Q7\n",
        "def sort_list_of_tuples_by_last_element(tuple_list):\n",
        "    return sorted(tuple_list, key=lambda x: x[-1])\n",
        "\n",
        "lst = [(1, 7), (1, 3), (3, 4, 5), (2, 2)]\n",
        "sorted_lst = sort_list_of_tuples_by_last_element(lst)\n",
        "print(sorted_lst)  # prints [(2, 2), (1, 3), (3, 4, 5), (1, 7)]"
      ],
      "metadata": {
        "colab": {
          "base_uri": "https://localhost:8080/"
        },
        "id": "2umv4iNHdGsf",
        "outputId": "3fc3b5da-8368-4aa9-eaa8-7d9ad156ddce"
      },
      "execution_count": 40,
      "outputs": [
        {
          "output_type": "stream",
          "name": "stdout",
          "text": [
            "[(2, 2), (1, 3), (3, 4, 5), (1, 7)]\n"
          ]
        }
      ]
    },
    {
      "cell_type": "code",
      "source": [
        "# Q8\n",
        "def is_non_recursive_palindrome(input_str):\n",
        "  input_str = input_str.lower() \n",
        "  input_str = input_str.replace(\" \", \"\")\n",
        "  input_str = input_str.replace(\",\", \"\")\n",
        "  input_str = input_str.replace(\".\", \"\")\n",
        "  input_str = input_str.replace(\":\", \"\")\n",
        "  input_str = input_str.replace(\";\", \"\")\n",
        "  return input_str == input_str[::-1]\n",
        "\n",
        "s = input(\"Please input a string: \")\n",
        "if (is_non_recursive_palindrome(s)):\n",
        "    print(\"Yes\")\n",
        "else:\n",
        "    print(\"No\")\n"
      ],
      "metadata": {
        "colab": {
          "base_uri": "https://localhost:8080/"
        },
        "id": "qqu99de_dJnK",
        "outputId": "9c6ed535-e85a-47a0-daf6-b82208727d3d"
      },
      "execution_count": 41,
      "outputs": [
        {
          "output_type": "stream",
          "name": "stdout",
          "text": [
            "Please input a string: tenet\n",
            "Yes\n"
          ]
        }
      ]
    },
    {
      "cell_type": "code",
      "source": [
        "# Q9\n",
        "def flatten_list(lst):\n",
        "    flatten_lst = []\n",
        "    for i in lst:\n",
        "        if type(i) == list:\n",
        "            flatten_lst += flatten_list(i)\n",
        "        else:\n",
        "            flatten_lst.append(i)\n",
        "    return flatten_lst\n",
        "\n",
        "n_list = [[3, 6, 3], [9, 5]]\n",
        "flattened_list = flatten_list(n_list)\n",
        "print(flattened_list)"
      ],
      "metadata": {
        "colab": {
          "base_uri": "https://localhost:8080/"
        },
        "id": "66RJQ-E3dmHC",
        "outputId": "ecb7c0d2-4b90-4c3b-f828-b799acf315a9"
      },
      "execution_count": 42,
      "outputs": [
        {
          "output_type": "stream",
          "name": "stdout",
          "text": [
            "[3, 6, 3, 9, 5]\n"
          ]
        }
      ]
    },
    {
      "cell_type": "code",
      "source": [
        "# Q10\n",
        "def get_intersection(lst1, lst2):\n",
        "    intersection_lst = []\n",
        "    for i in lst1:\n",
        "        if i in lst2 and i not in intersection_lst:\n",
        "            intersection_lst.append(i)\n",
        "    return intersection_lst\n",
        "\n",
        "lst1 = [1, 2, 3, 4, 5]\n",
        "lst2 = [3, 4, 5, 6, 7]\n",
        "intersect = get_intersection(lst1, lst2)\n",
        "print(intersect)"
      ],
      "metadata": {
        "colab": {
          "base_uri": "https://localhost:8080/"
        },
        "id": "hgb2gC-zdvPk",
        "outputId": "61949bac-1bfd-44f7-dc53-77a607d75bf9"
      },
      "execution_count": 43,
      "outputs": [
        {
          "output_type": "stream",
          "name": "stdout",
          "text": [
            "[3, 4, 5]\n"
          ]
        }
      ]
    },
    {
      "cell_type": "code",
      "source": [
        "# Q11\n",
        "def is_anagram(s1, s2):\n",
        "    # Remove spaces and convert to lowercase\n",
        "    s1 = s1.replace(' ', '').lower()\n",
        "    s2 = s2.replace(' ', '').lower()\n",
        "\n",
        "    # Check if the two strings have the same letters\n",
        "    if len(s1) != len(s2):\n",
        "        return False\n",
        "    for letter in s1:\n",
        "        if s1.count(letter) != s2.count(letter):\n",
        "            return False\n",
        "    return True\n",
        "\n",
        "string1 = 'cinema'\n",
        "string2 = 'iceman'\n",
        "if is_anagram(string1, string2):\n",
        "    print(f'{string1} and {string2} are anagrams')\n",
        "else:\n",
        "    print(f'{string1} and {string2} are not anagrams')"
      ],
      "metadata": {
        "colab": {
          "base_uri": "https://localhost:8080/"
        },
        "id": "nGhubo-3d6EP",
        "outputId": "6ec70188-f818-469d-a0ea-07d06e1a4c63"
      },
      "execution_count": 44,
      "outputs": [
        {
          "output_type": "stream",
          "name": "stdout",
          "text": [
            "cinema and iceman are anagrams\n"
          ]
        }
      ]
    },
    {
      "cell_type": "code",
      "source": [
        "# Q12\n",
        "def search(numbers, key):\n",
        "    first = 0\n",
        "    last = len(numbers) - 1\n",
        "\n",
        "    while first <= last:\n",
        "        mid = (first + last) // 2\n",
        "        if numbers[mid] == key:\n",
        "            return mid\n",
        "        elif numbers[mid] < key:\n",
        "            first = mid + 1\n",
        "        else:\n",
        "            last = mid - 1\n",
        "\n",
        "    return -1\n",
        "\n",
        "numbers = [1, 3, 5, 7, 9]\n",
        "key = 5\n",
        "index = search(numbers, key)\n",
        "if index != -1:\n",
        "    print(f'The index of {key} is {index}')\n",
        "else:\n",
        "    print(f'{key} was not found in the list')\n",
        "print(numbers)\n"
      ],
      "metadata": {
        "colab": {
          "base_uri": "https://localhost:8080/"
        },
        "id": "TjqR_0J6fCng",
        "outputId": "4e152e30-eb52-4fde-9522-be52a3d7ab06"
      },
      "execution_count": 45,
      "outputs": [
        {
          "output_type": "stream",
          "name": "stdout",
          "text": [
            "The index of 5 is 2\n",
            "[1, 3, 5, 7, 9]\n"
          ]
        }
      ]
    },
    {
      "cell_type": "code",
      "source": [
        "# Q13\n",
        "def merge_sort(arr):\n",
        "    if len(arr) <= 1:\n",
        "        return arr\n",
        "\n",
        "    mid = len(arr) // 2\n",
        "    left_arr = arr[:mid]\n",
        "    right_arr = arr[mid:]\n",
        "\n",
        "    left_arr = merge_sort(left_arr)\n",
        "    right_arr = merge_sort(right_arr)\n",
        "\n",
        "    return merge(left_arr, right_arr)\n",
        "\n",
        "def merge(left_arr, right_arr):\n",
        "    result_arr = []\n",
        "    i = 0\n",
        "    j = 0\n",
        "\n",
        "    while i < len(left_arr) and j < len(right_arr):\n",
        "        if left_arr[i] < right_arr[j]:\n",
        "            result_arr.append(left_arr[i])\n",
        "            i += 1\n",
        "        else:\n",
        "            result_arr.append(right_arr[j])\n",
        "            j += 1\n",
        "\n",
        "    result_arr += left_arr[i:]\n",
        "    result_arr += right_arr[j:]\n",
        "\n",
        "    return result_arr\n",
        "\n",
        "arr = [5, 2, 1, 8, 4]\n",
        "sorted_arr = merge_sort(arr)\n",
        "print(sorted_arr)"
      ],
      "metadata": {
        "colab": {
          "base_uri": "https://localhost:8080/"
        },
        "id": "pLDH2TIFfRrz",
        "outputId": "8bca9ab6-22eb-42e2-8c3c-6ca80d3864a7"
      },
      "execution_count": 46,
      "outputs": [
        {
          "output_type": "stream",
          "name": "stdout",
          "text": [
            "[1, 2, 4, 5, 8]\n"
          ]
        }
      ]
    },
    {
      "cell_type": "code",
      "source": [
        "# Q14\n",
        "def quicksort(array):\n",
        "    if len(array) <= 1:\n",
        "        return array\n",
        "\n",
        "    pivot = array[0]\n",
        "    left = []\n",
        "    right = []\n",
        "\n",
        "    for i in range(1, len(array)):\n",
        "        if array[i] < pivot:\n",
        "            left.append(array[i])\n",
        "        else:\n",
        "            right.append(array[i])\n",
        "\n",
        "    left = quicksort(left)\n",
        "    right = quicksort(right)\n",
        "\n",
        "    return left + [pivot] + right\n",
        "\n",
        "arr = [5, 2, 1, 8, 4]\n",
        "sorted_arr = quicksort(arr)\n",
        "print(sorted_arr)"
      ],
      "metadata": {
        "colab": {
          "base_uri": "https://localhost:8080/"
        },
        "id": "G4i9z271fWZJ",
        "outputId": "b3e0419f-3478-4898-ae04-c058bc3330e4"
      },
      "execution_count": 47,
      "outputs": [
        {
          "output_type": "stream",
          "name": "stdout",
          "text": [
            "[1, 2, 4, 5, 8]\n"
          ]
        }
      ]
    },
    {
      "cell_type": "code",
      "source": [
        "# Q15\n",
        "def count_frequency(lst):\n",
        "    freq = {}\n",
        "\n",
        "    for element in lst:\n",
        "        if element in freq:\n",
        "            freq[element] += 1\n",
        "        else:\n",
        "            freq[element] = 1\n",
        "\n",
        "    return freq\n",
        "\n",
        "lst = [1, 2, 2, 3, 4, 2]\n",
        "freq = count_frequency(lst)\n",
        "print(freq)"
      ],
      "metadata": {
        "colab": {
          "base_uri": "https://localhost:8080/"
        },
        "id": "dpIut2j2fx0Z",
        "outputId": "47b697f0-7c17-47f7-d938-74a97379a781"
      },
      "execution_count": 48,
      "outputs": [
        {
          "output_type": "stream",
          "name": "stdout",
          "text": [
            "{1: 1, 2: 3, 3: 1, 4: 1}\n"
          ]
        }
      ]
    },
    {
      "cell_type": "code",
      "source": [
        "# Q16\n",
        "def count_distinct_elements(lst):\n",
        "    distinct_set = set(lst)\n",
        "    return len(distinct_set)\n",
        "\n",
        "numbers = [1, 2, 2, 3, 4, 2]\n",
        "distinct_count = count_distinct_elements(numbers)\n",
        "print(distinct_count)"
      ],
      "metadata": {
        "colab": {
          "base_uri": "https://localhost:8080/"
        },
        "id": "IOQw8leegCWi",
        "outputId": "287fae57-99ad-4c9e-af0b-5b3f8df2557d"
      },
      "execution_count": 49,
      "outputs": [
        {
          "output_type": "stream",
          "name": "stdout",
          "text": [
            "4\n"
          ]
        }
      ]
    },
    {
      "cell_type": "code",
      "source": [
        "# Q17\n",
        "def get_union_and_intersection(set_a, set_b):\n",
        "    union_set = set()\n",
        "    intersection_set = set()\n",
        "    for x in set_a:\n",
        "        union_set.add(x)\n",
        "        if x in set_b:\n",
        "            intersection_set.add(x)\n",
        "    for x in set_b:\n",
        "        union_set.add(x)\n",
        "    return (union_set, intersection_set)\n",
        "\n",
        "set_a = {1, 2, 3, 4}\n",
        "set_b = {2, 4, 5, 6}\n",
        "union, intersection = get_union_and_intersection(set_a, set_b)\n",
        "print(\"Union:\", union)\n",
        "print(\"Intersection:\", intersection)\n"
      ],
      "metadata": {
        "colab": {
          "base_uri": "https://localhost:8080/"
        },
        "id": "wAktBfiHgauX",
        "outputId": "c5217a66-17b8-40bd-c451-428824765a19"
      },
      "execution_count": 50,
      "outputs": [
        {
          "output_type": "stream",
          "name": "stdout",
          "text": [
            "Union: {1, 2, 3, 4, 5, 6}\n",
            "Intersection: {2, 4}\n"
          ]
        }
      ]
    },
    {
      "cell_type": "code",
      "source": [
        "# Q18\n",
        "def dicVals(dic):\n",
        "    return list(set(dic.values()))\n",
        "\n",
        "d = {\"x\":1, \"y\":2, \"z\":3, \"a\":4, \"b\":1, \"c\":2, \"d\":3, \"e\":1}\n",
        "print(dicVals(d))"
      ],
      "metadata": {
        "colab": {
          "base_uri": "https://localhost:8080/"
        },
        "id": "9iVt_P4fhJE2",
        "outputId": "35fbde9e-9b76-4caf-9b46-f0ef3babc31c"
      },
      "execution_count": 51,
      "outputs": [
        {
          "output_type": "stream",
          "name": "stdout",
          "text": [
            "[1, 2, 3, 4]\n"
          ]
        }
      ]
    },
    {
      "cell_type": "code",
      "source": [
        "# Q19\n",
        "from collections import Counter\n",
        "def frequent_values(x):\n",
        "    counts = Counter(x.values())\n",
        "    max_count = max(counts.values())\n",
        "    # Find all the keys that have a value with count equal to max_count\n",
        "    keys = [k for k, v in x.items() if counts[v] == max_count]\n",
        "\n",
        "    return keys\n",
        "\n",
        "d = {\"x\": 1, \"y\": 2, \"z\": 3, \"a\": 4, \"b\": 1, \"c\": 2, \"d\": 3, \"e\": 1}\n",
        "print(frequent_values(d))"
      ],
      "metadata": {
        "colab": {
          "base_uri": "https://localhost:8080/"
        },
        "id": "e2gcwJeUhwBa",
        "outputId": "a353239a-af26-49fa-b5dd-2db2fe081357"
      },
      "execution_count": 52,
      "outputs": [
        {
          "output_type": "stream",
          "name": "stdout",
          "text": [
            "['x', 'b', 'e']\n"
          ]
        }
      ]
    },
    {
      "cell_type": "code",
      "source": [
        "# Q20\n",
        "def merge_dictionaries(d1, d2):\n",
        "    d3 = d2.copy()\n",
        "    d3.update(d1)\n",
        "    return d3\n",
        "\n",
        "d1 = {'a': 1, 'b': 2, 'c': 3}\n",
        "d2 = {'b': 4, 'd': 5, 'e': 6}\n",
        "d3 = merge_dictionaries(d1, d2)\n",
        "print(d3)"
      ],
      "metadata": {
        "colab": {
          "base_uri": "https://localhost:8080/"
        },
        "id": "AA5uXj7diocz",
        "outputId": "0808bd06-6c8b-4d07-a19f-99929ec5c5cc"
      },
      "execution_count": 53,
      "outputs": [
        {
          "output_type": "stream",
          "name": "stdout",
          "text": [
            "{'b': 2, 'd': 5, 'e': 6, 'a': 1, 'c': 3}\n"
          ]
        }
      ]
    },
    {
      "cell_type": "code",
      "source": [
        "# Q21\n",
        "def filter_dicts_by_key(dicts_list, key):\n",
        "    filtered_list = []\n",
        "    for d in dicts_list:\n",
        "        if key in d.keys():\n",
        "            filtered_list.append(d)\n",
        "    return filtered_list\n",
        "\n",
        "dicts_list = [ {'name': 'Alice', 'age': 30}, {'name': 'Bob', 'age': 25, 'gender': 'male'}, {'name': 'Charlie', 'gender': 'male'}]\n",
        "filtered_list = filter_dicts_by_key(dicts_list, 'age')\n",
        "print(filtered_list)\n"
      ],
      "metadata": {
        "colab": {
          "base_uri": "https://localhost:8080/"
        },
        "id": "fLkdJLa6jbi1",
        "outputId": "59aacc6e-7f53-4ca7-af43-00afd00881a2"
      },
      "execution_count": 54,
      "outputs": [
        {
          "output_type": "stream",
          "name": "stdout",
          "text": [
            "[{'name': 'Alice', 'age': 30}, {'name': 'Bob', 'age': 25, 'gender': 'male'}]\n"
          ]
        }
      ]
    },
    {
      "cell_type": "code",
      "source": [
        "# Q22\n",
        "def find_duplicates(lst):\n",
        "    unique = []\n",
        "    duplicates = []\n",
        "    for item in lst:\n",
        "        if item not in unique:\n",
        "            unique.append(item)\n",
        "        elif item not in duplicates:\n",
        "            duplicates.append(item)\n",
        "    return duplicates\n",
        "\n",
        "lst = [1, 2, 3, 4, 2, 5, 6, 3, 4, 7]\n",
        "duplicates = find_duplicates(lst)\n",
        "print(duplicates)  # prints [2, 3, 4]\n"
      ],
      "metadata": {
        "colab": {
          "base_uri": "https://localhost:8080/"
        },
        "id": "mRbJAcSilNIi",
        "outputId": "c5b81f52-d642-4b38-c6f5-dcac8544f450"
      },
      "execution_count": 55,
      "outputs": [
        {
          "output_type": "stream",
          "name": "stdout",
          "text": [
            "[2, 3, 4]\n"
          ]
        }
      ]
    }
  ]
}