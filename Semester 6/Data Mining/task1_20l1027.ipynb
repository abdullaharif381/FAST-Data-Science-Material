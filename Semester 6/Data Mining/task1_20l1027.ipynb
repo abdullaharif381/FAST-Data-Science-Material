{
 "cells": [
  {
   "cell_type": "code",
   "execution_count": 3,
   "metadata": {},
   "outputs": [],
   "source": [
    "import pandas as pd\n",
    "from sklearn.utils import resample\n",
    "\n",
    "df = pd.read_csv('Task1.csv')"
   ]
  },
  {
   "cell_type": "code",
   "execution_count": 4,
   "metadata": {},
   "outputs": [
    {
     "data": {
      "text/plain": [
       "Index(['destination', 'passanger', 'weather', 'temperature', 'time', 'coupon',\n",
       "       'expiration', 'gender', 'age', 'maritalStatus', 'has_children',\n",
       "       'education', 'occupation', 'income', 'car', 'Bar', 'CoffeeHouse',\n",
       "       'CarryAway', 'RestaurantLessThan20', 'Restaurant20To50',\n",
       "       'toCoupon_GEQ5min', 'toCoupon_GEQ15min', 'toCoupon_GEQ25min',\n",
       "       'direction_same', 'direction_opp', 'Y'],\n",
       "      dtype='object')"
      ]
     },
     "execution_count": 4,
     "metadata": {},
     "output_type": "execute_result"
    }
   ],
   "source": [
    "df.columns"
   ]
  },
  {
   "cell_type": "code",
   "execution_count": 5,
   "metadata": {},
   "outputs": [],
   "source": [
    "count_class_0, count_class_1 = df['Y'].value_counts()\n",
    "\n",
    "df_class_0 = df[df['Y'] == 0]\n",
    "df_class_1 = df[df['Y'] == 1]\n",
    "\n",
    "df_class_1_upsampled = resample(df_class_1, replace=True, n_samples=count_class_0, random_state=42)\n",
    "\n",
    "df_balanced = pd.concat([df_class_0, df_class_1_upsampled])"
   ]
  },
  {
   "cell_type": "code",
   "execution_count": 6,
   "metadata": {},
   "outputs": [],
   "source": [
    "from sklearn.impute import SimpleImputer\n",
    "\n",
    "imputer = SimpleImputer(strategy='most_frequent')\n",
    "\n",
    "df_balanced[['destination', 'passanger', 'weather', 'temperature', 'time', 'coupon',\n",
    "       'expiration', 'gender', 'age', 'maritalStatus', 'has_children',\n",
    "       'education', 'occupation', 'income', 'car', 'Bar', 'CoffeeHouse',\n",
    "       'CarryAway', 'RestaurantLessThan20', 'Restaurant20To50',\n",
    "       'toCoupon_GEQ5min', 'toCoupon_GEQ15min', 'toCoupon_GEQ25min',\n",
    "       'direction_same', 'direction_opp']] = imputer.fit_transform(df_balanced[['destination', 'passanger', 'weather', 'temperature', 'time', 'coupon',\n",
    "       'expiration', 'gender', 'age', 'maritalStatus', 'has_children',\n",
    "       'education', 'occupation', 'income', 'car', 'Bar', 'CoffeeHouse',\n",
    "       'CarryAway', 'RestaurantLessThan20', 'Restaurant20To50',\n",
    "       'toCoupon_GEQ5min', 'toCoupon_GEQ15min', 'toCoupon_GEQ25min',\n",
    "       'direction_same', 'direction_opp']])"
   ]
  },
  {
   "cell_type": "code",
   "execution_count": 8,
   "metadata": {},
   "outputs": [],
   "source": [
    "from sklearn.preprocessing import LabelEncoder\n",
    "\n",
    "for col in df_balanced.select_dtypes(include='object'):\n",
    "    le = LabelEncoder()\n",
    "    df_balanced[col] = le.fit_transform(df_balanced[col].astype(str))"
   ]
  },
  {
   "cell_type": "code",
   "execution_count": 9,
   "metadata": {},
   "outputs": [],
   "source": [
    "from sklearn.preprocessing import StandardScaler\n",
    "from sklearn.compose import ColumnTransformer\n",
    "\n",
    "X = df_balanced.drop('Y', axis=1)\n",
    "y = df_balanced['Y']\n",
    "\n",
    "preprocessor = ColumnTransformer(\n",
    "    transformers=[\n",
    "        ('imputer', SimpleImputer(strategy='mean'), X.columns),\n",
    "        ('scaler', StandardScaler(), X.columns)\n",
    "    ])\n",
    "\n",
    "X = preprocessor.fit_transform(X)"
   ]
  },
  {
   "cell_type": "code",
   "execution_count": 10,
   "metadata": {},
   "outputs": [
    {
     "name": "stderr",
     "output_type": "stream",
     "text": [
      "c:\\Users\\Nadeem\\anaconda3\\lib\\site-packages\\sklearn\\model_selection\\_search.py:918: UserWarning: One or more of the test scores are non-finite: [       nan 0.63939988        nan 0.63920265        nan 0.63920269\n",
      "        nan 0.63920265        nan 0.63930126        nan 0.63920265\n",
      "        nan 0.63949836        nan 0.63920265]\n",
      "  warnings.warn(\n"
     ]
    },
    {
     "data": {
      "text/plain": [
       "GridSearchCV(cv=5, estimator=LogisticRegression(max_iter=1000), n_jobs=-1,\n",
       "             param_grid={'C': [0.1, 1, 10, 100],\n",
       "                         'penalty': ['l1', 'l2', 'elasticnet', 'none']})"
      ]
     },
     "execution_count": 10,
     "metadata": {},
     "output_type": "execute_result"
    }
   ],
   "source": [
    "from sklearn.model_selection import train_test_split, GridSearchCV\n",
    "from sklearn.linear_model import LogisticRegression\n",
    "\n",
    "X_train, X_test, y_train, y_test = train_test_split(X, y, test_size=0.2, random_state=42)\n",
    "\n",
    "logreg = LogisticRegression(max_iter=1000)\n",
    "\n",
    "param_grid = {\n",
    "    'C': [0.1, 1, 10, 100],\n",
    "    'penalty': ['l1', 'l2', 'elasticnet', 'none']\n",
    "}\n",
    "\n",
    "grid_search = GridSearchCV(logreg, param_grid, cv=5, n_jobs=-1)\n",
    "grid_search.fit(X_train, y_train)"
   ]
  },
  {
   "cell_type": "code",
   "execution_count": 13,
   "metadata": {},
   "outputs": [
    {
     "name": "stdout",
     "output_type": "stream",
     "text": [
      "Training Set Metrics:\n",
      "Accuracy: 0.6419631418153149\n",
      "Error Rate: 0.3580368581846851\n",
      "Precision: 0.6563768115942029\n",
      "Recall: 0.7820756346054222\n",
      "F1-Score: 0.7137341423055709\n",
      "Sensitivity: 0.7820756346054222\n",
      "Specificity: 0.4556932966023875\n",
      "Confusion Matrix:\n",
      " [[1985 2371]\n",
      " [1262 4529]]\n",
      "\n",
      "Test Set Metrics:\n",
      "Accuracy: 0.6247536460386283\n",
      "Error Rate: 0.37524635396137174\n",
      "Precision: 0.6367896895137668\n",
      "Recall: 0.7660324171952079\n",
      "F1-Score: 0.6954574536148433\n",
      "Sensitivity: 0.7660324171952079\n",
      "Specificity: 0.44543828264758495\n",
      "Confusion Matrix:\n",
      " [[ 498  620]\n",
      " [ 332 1087]]\n"
     ]
    },
    {
     "data": {
      "image/png": "[encoded data removed]",
      "text/plain": [
       "<Figure size 432x288 with 1 Axes>"
      ]
     },
     "metadata": {
      "needs_background": "light"
     },
     "output_type": "display_data"
    }
   ],
   "source": [
    "from sklearn.metrics import accuracy_score, precision_score, recall_score, f1_score, confusion_matrix, roc_curve, auc\n",
    "import matplotlib.pyplot as plt\n",
    "\n",
    "\n",
    "# Calculate metrics for the training set\n",
    "y_train_pred = grid_search.predict(X_train)\n",
    "print(\"Training Set Metrics:\")\n",
    "print(\"Accuracy:\", accuracy_score(y_train, y_train_pred))\n",
    "print(\"Error Rate:\", 1 - accuracy_score(y_train, y_train_pred))\n",
    "print(\"Precision:\", precision_score(y_train, y_train_pred))\n",
    "print(\"Recall:\", recall_score(y_train, y_train_pred))\n",
    "print(\"F1-Score:\", f1_score(y_train, y_train_pred))\n",
    "tn_train, fp_train, fn_train, tp_train = confusion_matrix(y_train, y_train_pred).ravel()\n",
    "print(\"Sensitivity:\", tp_train / (tp_train + fn_train))\n",
    "print(\"Specificity:\", tn_train / (tn_train + fp_train))\n",
    "print(\"Confusion Matrix:\\n\", confusion_matrix(y_train, y_train_pred))\n",
    "\n",
    "# # Calculate metrics for the validation set\n",
    "# y_val_pred = grid_searn.predict(X_val)\n",
    "# print(\"\\nValidation Set Metrics:\")\n",
    "# print(\"Accuracy:\", accuracy_score(y_val, y_val_pred))\n",
    "# print(\"Error Rate:\", 1 - accuracy_score(y_val, y_val_pred))\n",
    "# print(\"Precision:\", precision_score(y_val, y_val_pred))\n",
    "# print(\"Recall:\", recall_score(y_val, y_val_pred))\n",
    "# print(\"F1-Score:\", f1_score(y_val, y_val_pred))\n",
    "# tn_val, fp_val, fn_val, tp_val = confusion_matrix(y_val, y_val_pred).ravel()\n",
    "# print(\"Sensitivity:\", tp_val / (tp_val + fn_val))\n",
    "# print(\"Specificity:\", tn_val / (tn_val + fp_val))\n",
    "# print(\"Confusion Matrix:\\n\", confusion_matrix(y_val, y_val_pred))\n",
    "\n",
    "y_pred = grid_search.predict(X_test)\n",
    "# Calculate metrics for the test set\n",
    "print(\"\\nTest Set Metrics:\")\n",
    "print(\"Accuracy:\", accuracy_score(y_test, y_pred))\n",
    "print(\"Error Rate:\", 1 - accuracy_score(y_test, y_pred))\n",
    "print(\"Precision:\", precision_score(y_test, y_pred))\n",
    "print(\"Recall:\", recall_score(y_test, y_pred))\n",
    "print(\"F1-Score:\", f1_score(y_test, y_pred))\n",
    "tn_test, fp_test, fn_test, tp_test = confusion_matrix(y_test, y_pred).ravel()\n",
    "print(\"Sensitivity:\", tp_test / (tp_test + fn_test))\n",
    "print(\"Specificity:\", tn_test / (tn_test + fp_test))\n",
    "print(\"Confusion Matrix:\\n\", confusion_matrix(y_test, y_pred))\n",
    "\n",
    "# # Train a logistic regression model on the entire dataset\n",
    "# classifier = LogisticRegression(random_state=0)\n",
    "# classifier.fit(X, y)\n",
    "\n",
    "# # Plot accuracy curves for the training and validation sets\n",
    "# plt.plot(classifier.score(X_train, y_train))\n",
    "# plt.plot(classifier.score(X_val, y_val))\n",
    "# plt.xlabel('Epoch')\n",
    "# plt.ylabel('Accuracy')\n",
    "# plt.legend(['Training Set', 'Validation Set'])\n",
    "# plt.show()\n",
    "\n",
    "\n",
    "# Calculate false positive rates and true positive rates\n",
    "fpr, tpr, thresholds = roc_curve(y_test, y_pred)\n",
    "roc_auc = auc(fpr, tpr)\n",
    "\n",
    "# Plot ROC curve\n",
    "plt.plot(fpr, tpr, label='ROC curve (area = %0.2f)' % roc_auc)\n",
    "plt.plot([0, 1], [0, 1], 'k--')\n",
    "plt.xlim([0.0, 1.0])\n",
    "plt.ylim([0.0, 1.05])\n",
    "plt.xlabel('False Positive Rate')\n",
    "plt.ylabel('True Positive Rate')\n",
    "plt.title('Receiver operating characteristic')\n",
    "plt.legend(loc=\"lower right\")\n",
    "plt.show()"
   ]
  }
 ],
 "metadata": {
  "kernelspec": {
   "display_name": "base",
   "language": "python",
   "name": "python3"
  },
  "language_info": {
   "codemirror_mode": {
    "name": "ipython",
    "version": 3
   },
   "file_extension": ".py",
   "mimetype": "text/x-python",
   "name": "python",
   "nbconvert_exporter": "python",
   "pygments_lexer": "ipython3",
   "version": "3.8.8"
  },
  "orig_nbformat": 4
 },
 "nbformat": 4,
 "nbformat_minor": 2
}
