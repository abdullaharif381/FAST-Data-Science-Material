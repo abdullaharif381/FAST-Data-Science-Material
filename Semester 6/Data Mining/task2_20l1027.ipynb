{
 "cells": [
  {
   "cell_type": "code",
   "execution_count": 1,
   "metadata": {},
   "outputs": [
    {
     "data": {
      "text/html": [
       "<div>\n",
       "<style scoped>\n",
       "    .dataframe tbody tr th:only-of-type {\n",
       "        vertical-align: middle;\n",
       "    }\n",
       "\n",
       "    .dataframe tbody tr th {\n",
       "        vertical-align: top;\n",
       "    }\n",
       "\n",
       "    .dataframe thead th {\n",
       "        text-align: right;\n",
       "    }\n",
       "</style>\n",
       "<table border=\"1\" class=\"dataframe\">\n",
       "  <thead>\n",
       "    <tr style=\"text-align: right;\">\n",
       "      <th></th>\n",
       "      <th>CustomerID</th>\n",
       "      <th>Name</th>\n",
       "      <th>Gender</th>\n",
       "      <th>Age</th>\n",
       "      <th>Annual Income (k$)</th>\n",
       "      <th>Spending Score (1-100)</th>\n",
       "      <th>Address</th>\n",
       "      <th>Occupation</th>\n",
       "      <th>City</th>\n",
       "    </tr>\n",
       "  </thead>\n",
       "  <tbody>\n",
       "    <tr>\n",
       "      <th>0</th>\n",
       "      <td>1</td>\n",
       "      <td>Luis Jackson</td>\n",
       "      <td>Male</td>\n",
       "      <td>19</td>\n",
       "      <td>15</td>\n",
       "      <td>39</td>\n",
       "      <td>7294 Scott Harbor Apt. 602\\nNorth Tammytown, W...</td>\n",
       "      <td>Teacher, music</td>\n",
       "      <td>Brandonshire</td>\n",
       "    </tr>\n",
       "    <tr>\n",
       "      <th>1</th>\n",
       "      <td>2</td>\n",
       "      <td>Nicole Cruz</td>\n",
       "      <td>Male</td>\n",
       "      <td>21</td>\n",
       "      <td>15</td>\n",
       "      <td>81</td>\n",
       "      <td>67557 Moody Roads\\nLake Johnshire, PW 59047</td>\n",
       "      <td>Product manager</td>\n",
       "      <td>Ariasstad</td>\n",
       "    </tr>\n",
       "    <tr>\n",
       "      <th>2</th>\n",
       "      <td>3</td>\n",
       "      <td>Linda Brooks</td>\n",
       "      <td>Female</td>\n",
       "      <td>20</td>\n",
       "      <td>16</td>\n",
       "      <td>6</td>\n",
       "      <td>090 Hancock Highway\\nSouth Patriciaview, DC 65170</td>\n",
       "      <td>Sub</td>\n",
       "      <td>North Shaneville</td>\n",
       "    </tr>\n",
       "    <tr>\n",
       "      <th>3</th>\n",
       "      <td>4</td>\n",
       "      <td>Steven Morgan</td>\n",
       "      <td>Female</td>\n",
       "      <td>23</td>\n",
       "      <td>16</td>\n",
       "      <td>77</td>\n",
       "      <td>6532 Amanda Mission Apt. 406\\nHollyburgh, RI 9...</td>\n",
       "      <td>Administrator</td>\n",
       "      <td>Lake Rebecca</td>\n",
       "    </tr>\n",
       "    <tr>\n",
       "      <th>4</th>\n",
       "      <td>5</td>\n",
       "      <td>Kelly Evans</td>\n",
       "      <td>Female</td>\n",
       "      <td>31</td>\n",
       "      <td>17</td>\n",
       "      <td>40</td>\n",
       "      <td>27141 Lawrence Plains\\nGaryfurt, WV 94124</td>\n",
       "      <td>Occupational therapist</td>\n",
       "      <td>Adamsborough</td>\n",
       "    </tr>\n",
       "    <tr>\n",
       "      <th>...</th>\n",
       "      <td>...</td>\n",
       "      <td>...</td>\n",
       "      <td>...</td>\n",
       "      <td>...</td>\n",
       "      <td>...</td>\n",
       "      <td>...</td>\n",
       "      <td>...</td>\n",
       "      <td>...</td>\n",
       "      <td>...</td>\n",
       "    </tr>\n",
       "    <tr>\n",
       "      <th>5195</th>\n",
       "      <td>5196</td>\n",
       "      <td>David Garcia</td>\n",
       "      <td>Female</td>\n",
       "      <td>64</td>\n",
       "      <td>119</td>\n",
       "      <td>26</td>\n",
       "      <td>90770 Cardenas Turnpike\\nMillertown, NH 63540</td>\n",
       "      <td>Clinical scientist, histocompatibility and imm...</td>\n",
       "      <td>Annetteberg</td>\n",
       "    </tr>\n",
       "    <tr>\n",
       "      <th>5196</th>\n",
       "      <td>5197</td>\n",
       "      <td>Ryan Thompson</td>\n",
       "      <td>Male</td>\n",
       "      <td>47</td>\n",
       "      <td>122</td>\n",
       "      <td>30</td>\n",
       "      <td>2654 Jimenez Ford\\nChristinebury, SC 66676</td>\n",
       "      <td>Geologist, wellsite</td>\n",
       "      <td>Port Jeffrey</td>\n",
       "    </tr>\n",
       "    <tr>\n",
       "      <th>5197</th>\n",
       "      <td>5198</td>\n",
       "      <td>Alejandro Haas</td>\n",
       "      <td>Female</td>\n",
       "      <td>34</td>\n",
       "      <td>99</td>\n",
       "      <td>37</td>\n",
       "      <td>PSC 2918, Box 0616\\nAPO AP 06820</td>\n",
       "      <td>Systems developer</td>\n",
       "      <td>New Elaineshire</td>\n",
       "    </tr>\n",
       "    <tr>\n",
       "      <th>5198</th>\n",
       "      <td>5199</td>\n",
       "      <td>Kelly Maldonado</td>\n",
       "      <td>Male</td>\n",
       "      <td>54</td>\n",
       "      <td>97</td>\n",
       "      <td>69</td>\n",
       "      <td>202 Joshua Locks Suite 047\\nNew Heatherton, MH...</td>\n",
       "      <td>Energy manager</td>\n",
       "      <td>Ronaldtown</td>\n",
       "    </tr>\n",
       "    <tr>\n",
       "      <th>5199</th>\n",
       "      <td>5200</td>\n",
       "      <td>Cody Kelly</td>\n",
       "      <td>Male</td>\n",
       "      <td>59</td>\n",
       "      <td>106</td>\n",
       "      <td>3</td>\n",
       "      <td>585 Jenny Inlet Apt. 014\\nNew David, MH 87854</td>\n",
       "      <td>Development worker, community</td>\n",
       "      <td>South Stacey</td>\n",
       "    </tr>\n",
       "  </tbody>\n",
       "</table>\n",
       "<p>5200 rows × 9 columns</p>\n",
       "</div>"
      ],
      "text/plain": [
       "      CustomerID             Name  Gender  Age  Annual Income (k$)  \\\n",
       "0              1     Luis Jackson    Male   19                  15   \n",
       "1              2      Nicole Cruz    Male   21                  15   \n",
       "2              3     Linda Brooks  Female   20                  16   \n",
       "3              4    Steven Morgan  Female   23                  16   \n",
       "4              5      Kelly Evans  Female   31                  17   \n",
       "...          ...              ...     ...  ...                 ...   \n",
       "5195        5196     David Garcia  Female   64                 119   \n",
       "5196        5197    Ryan Thompson    Male   47                 122   \n",
       "5197        5198   Alejandro Haas  Female   34                  99   \n",
       "5198        5199  Kelly Maldonado    Male   54                  97   \n",
       "5199        5200       Cody Kelly    Male   59                 106   \n",
       "\n",
       "      Spending Score (1-100)  \\\n",
       "0                         39   \n",
       "1                         81   \n",
       "2                          6   \n",
       "3                         77   \n",
       "4                         40   \n",
       "...                      ...   \n",
       "5195                      26   \n",
       "5196                      30   \n",
       "5197                      37   \n",
       "5198                      69   \n",
       "5199                       3   \n",
       "\n",
       "                                                Address  \\\n",
       "0     7294 Scott Harbor Apt. 602\\nNorth Tammytown, W...   \n",
       "1           67557 Moody Roads\\nLake Johnshire, PW 59047   \n",
       "2     090 Hancock Highway\\nSouth Patriciaview, DC 65170   \n",
       "3     6532 Amanda Mission Apt. 406\\nHollyburgh, RI 9...   \n",
       "4             27141 Lawrence Plains\\nGaryfurt, WV 94124   \n",
       "...                                                 ...   \n",
       "5195      90770 Cardenas Turnpike\\nMillertown, NH 63540   \n",
       "5196         2654 Jimenez Ford\\nChristinebury, SC 66676   \n",
       "5197                   PSC 2918, Box 0616\\nAPO AP 06820   \n",
       "5198  202 Joshua Locks Suite 047\\nNew Heatherton, MH...   \n",
       "5199      585 Jenny Inlet Apt. 014\\nNew David, MH 87854   \n",
       "\n",
       "                                             Occupation              City  \n",
       "0                                        Teacher, music      Brandonshire  \n",
       "1                                       Product manager         Ariasstad  \n",
       "2                                                   Sub  North Shaneville  \n",
       "3                                         Administrator      Lake Rebecca  \n",
       "4                                Occupational therapist      Adamsborough  \n",
       "...                                                 ...               ...  \n",
       "5195  Clinical scientist, histocompatibility and imm...       Annetteberg  \n",
       "5196                                Geologist, wellsite      Port Jeffrey  \n",
       "5197                                  Systems developer   New Elaineshire  \n",
       "5198                                     Energy manager        Ronaldtown  \n",
       "5199                      Development worker, community      South Stacey  \n",
       "\n",
       "[5200 rows x 9 columns]"
      ]
     },
     "execution_count": 1,
     "metadata": {},
     "output_type": "execute_result"
    }
   ],
   "source": [
    "import pandas as pd\n",
    "\n",
    "df = pd.read_csv('Task2_data.csv')\n",
    "df"
   ]
  },
  {
   "cell_type": "code",
   "execution_count": 2,
   "metadata": {},
   "outputs": [
    {
     "data": {
      "text/plain": [
       "Index(['CustomerID', 'Name', 'Gender', 'Age', 'Annual Income (k$)',\n",
       "       'Spending Score (1-100)', 'Address', 'Occupation', 'City'],\n",
       "      dtype='object')"
      ]
     },
     "execution_count": 2,
     "metadata": {},
     "output_type": "execute_result"
    }
   ],
   "source": [
    "df.columns"
   ]
  },
  {
   "attachments": {},
   "cell_type": "markdown",
   "metadata": {},
   "source": [
    "# Q1\n",
    "The features used in this dataset for customer segmentation are: CustomerID, Name, Gender, Age, Annual Income (k$), Spending Score (1-100), Address, Occupation, and City."
   ]
  },
  {
   "cell_type": "code",
   "execution_count": 4,
   "metadata": {},
   "outputs": [
    {
     "data": {
      "image/png": "[encoded data removed]",
      "text/plain": [
       "<Figure size 432x288 with 1 Axes>"
      ]
     },
     "metadata": {
      "needs_background": "light"
     },
     "output_type": "display_data"
    }
   ],
   "source": [
    "# Q2\n",
    "import matplotlib.pyplot as plt\n",
    "\n",
    "plt.hist(df['Age'])\n",
    "plt.show()"
   ]
  },
  {
   "cell_type": "code",
   "execution_count": 5,
   "metadata": {},
   "outputs": [
    {
     "name": "stdout",
     "output_type": "stream",
     "text": [
      "CustomerID                0.017582\n",
      "Age                      -0.019664\n",
      "Annual Income (k$)        0.008992\n",
      "Spending Score (1-100)    1.000000\n",
      "Name: Spending Score (1-100), dtype: float64\n"
     ]
    }
   ],
   "source": [
    "# Q3\n",
    "corr_matrix = df.corr(method='pearson')['Spending Score (1-100)']\n",
    "print(corr_matrix)"
   ]
  },
  {
   "cell_type": "code",
   "execution_count": 6,
   "metadata": {},
   "outputs": [
    {
     "data": {
      "image/png": "[encoded data removed]",
      "text/plain": [
       "<Figure size 432x288 with 1 Axes>"
      ]
     },
     "metadata": {
      "needs_background": "light"
     },
     "output_type": "display_data"
    }
   ],
   "source": [
    "# Q4\n",
    "from sklearn.cluster import KMeans\n",
    "\n",
    "X = df[['Age', 'Annual Income (k$)', 'Spending Score (1-100)']]\n",
    "\n",
    "wcss = []\n",
    "for k in range(1, 11):\n",
    "    kmeans = KMeans(n_clusters=k, init='k-means++', random_state=42)\n",
    "    kmeans.fit(X)\n",
    "    wcss.append(kmeans.inertia_)\n",
    "\n",
    "plt.plot(range(1, 11), wcss)\n",
    "plt.title('Elbow Method')\n",
    "plt.xlabel('Number of Clusters')\n",
    "plt.ylabel('WCSS')\n",
    "plt.show()\n"
   ]
  },
  {
   "cell_type": "code",
   "execution_count": 7,
   "metadata": {},
   "outputs": [
    {
     "name": "stdout",
     "output_type": "stream",
     "text": [
      "The average annual income of customers in the dataset is: 105.17 k$\n"
     ]
    }
   ],
   "source": [
    "# Q5\n",
    "avg_income = df['Annual Income (k$)'].mean()\n",
    "print(f\"The average annual income of customers in the dataset is: {avg_income:.2f} k$\")"
   ]
  },
  {
   "cell_type": "code",
   "execution_count": 8,
   "metadata": {},
   "outputs": [
    {
     "name": "stdout",
     "output_type": "stream",
     "text": [
      "The average spending score of male customers in the dataset is: 50.44\n"
     ]
    }
   ],
   "source": [
    "# Q6\n",
    "male_customers = df[df['Gender'] == 'Male']\n",
    "avg_spending_male = male_customers['Spending Score (1-100)'].mean()\n",
    "print(f\"The average spending score of male customers in the dataset is: {avg_spending_male:.2f}\")"
   ]
  },
  {
   "cell_type": "code",
   "execution_count": null,
   "metadata": {},
   "outputs": [],
   "source": [
    "# Q7\n",
    "\n",
    "import numpy as np\n",
    "from sklearn.cluster import KMeans\n",
    "\n",
    "\n",
    "X = df[['Age', 'Annual Income (k$)', 'Spending Score (1-100)']]\n",
    "\n",
    "wcss = []\n",
    "for i in range(1, 11):\n",
    "    kmeans = KMeans(n_clusters=i, init='k-means++', random_state=42)\n",
    "    kmeans.fit(X)\n",
    "    wcss.append(kmeans.inertia_)\n",
    "\n",
    "kmeans = KMeans(n_clusters=5, init='k-means++', random_state=42)\n",
    "y_kmeans = kmeans.fit_predict(X)\n",
    "\n",
    "df['Cluster'] = y_kmeans\n",
    "print(df['Cluster'].value_counts())\n",
    "\n",
    "for i in range(5):\n",
    "    print(f\"Cluster {i}:\\n{df[df['Cluster'] == i]}\\n\")\n",
    "\n",
    "cluster_means = df.groupby('Cluster')['Annual Income (k$)', 'Spending Score (1-100)'].mean()\n",
    "highest_income_score_cluster = cluster_means[(cluster_means['Annual Income (k$)'] == cluster_means['Annual Income (k$)'].max()) & (cluster_means['Spending Score (1-100)'] == cluster_means['Spending Score (1-100)'].max())].index[0]\n",
    "print(f\"The cluster with the highest average income and spending score is: Cluster {highest_income_score_cluster}\")"
   ]
  },
  {
   "cell_type": "code",
   "execution_count": null,
   "metadata": {},
   "outputs": [],
   "source": [
    "# Q8"
   ]
  }
 ],
 "metadata": {
  "kernelspec": {
   "display_name": "base",
   "language": "python",
   "name": "python3"
  },
  "language_info": {
   "codemirror_mode": {
    "name": "ipython",
    "version": 3
   },
   "file_extension": ".py",
   "mimetype": "text/x-python",
   "name": "python",
   "nbconvert_exporter": "python",
   "pygments_lexer": "ipython3",
   "version": "3.8.8"
  },
  "orig_nbformat": 4
 },
 "nbformat": 4,
 "nbformat_minor": 2
}
