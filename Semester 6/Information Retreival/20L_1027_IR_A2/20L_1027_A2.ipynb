{
  "cells": [
    {
      "cell_type": "code",
      "execution_count": 43,
      "metadata": {
        "id": "iYJ4ALJVO9Rr"
      },
      "outputs": [],
      "source": [
        "import re\n",
        "import math\n",
        "import pandas as pd"
      ]
    },
    {
      "attachments": {},
      "cell_type": "markdown",
      "metadata": {},
      "source": [
        "# Reading Indexing Files"
      ]
    },
    {
      "cell_type": "code",
      "execution_count": 44,
      "metadata": {
        "id": "0zlUjizvR07f"
      },
      "outputs": [],
      "source": [
        "with open(\"docids.txt\", \"r\") as f:\n",
        "    D = 0\n",
        "    for line in f:\n",
        "        if line.strip():\n",
        "            D += 1\n",
        "\n",
        "doc_dict = {}\n",
        "len_D = 0.0\n",
        "with open(\"doc_index.txt\", 'r', encoding='utf-8') as f:\n",
        "    for line in f:\n",
        "        line = line.strip().split()\n",
        "        len_D += len(line[2:])\n",
        "        if int(line[0]) in doc_dict:\n",
        "            doc_dict[int(line[0])][int(line[1])] = line[2:]\n",
        "        else:\n",
        "            doc_dict[int(line[0])] = {int(line[1]): line[2:]}\n",
        "avgD = float(len_D/D)\n",
        "\n",
        "with open(\"docids.txt\", 'r', encoding='utf-8') as f:\n",
        "    doc_ids = [line.strip().split()[0] for line in f]\n",
        "\n",
        "term_dict = {}\n",
        "with open(\"termids.txt\", 'r', encoding='utf-8') as f:\n",
        "        for line in f:\n",
        "            line = line.strip().split()\n",
        "            term_dict[line[1]] = line[0]\n",
        "\n",
        "info_dict = {}\n",
        "with open(\"term_info.txt\", 'r', encoding='utf-8') as f:\n",
        "        for line in f:\n",
        "            line = line.strip().split()\n",
        "            info_dict[line[0]] = (line[1], line[2], line[3])"
      ]
    },
    {
      "attachments": {},
      "cell_type": "markdown",
      "metadata": {},
      "source": [
        "# Functions for Calculating Relevance Scores"
      ]
    },
    {
      "cell_type": "code",
      "execution_count": 45,
      "metadata": {
        "id": "hql14EKCPZaA"
      },
      "outputs": [],
      "source": [
        "def TF_IDF(tf, df):\n",
        "  idf = math.log(D / int(df)) \n",
        "  return float(tf*idf)\n",
        "\n",
        "def DirichletSmoothing(tf, ttf, length):\n",
        "  tf = float(tf)\n",
        "  length = float(length)\n",
        "  ttf = float(ttf)\n",
        "  score = ((length/(length+avgD))*(tf/length))+((avgD/(length+avgD))*(ttf/len_D))\n",
        "  return score\n",
        "\n",
        "def OkapiBM25(tf, df, length):\n",
        "  tf = float(tf)\n",
        "  df = float(df)\n",
        "  k1 = 1.2\n",
        "  k2 = 1000\n",
        "  b = 0.75\n",
        "  K = k1*((1-b)+(b*float(length/avgD)))\n",
        "  score = (math.log((D+0.5)/(df+0.5)))*(((1+k1)*tf)/(K+tf))*(((1+k2)*tf)/(k2+tf))\n",
        "  return score"
      ]
    },
    {
      "cell_type": "code",
      "execution_count": 46,
      "metadata": {
        "id": "DCz83jAAO4xq"
      },
      "outputs": [],
      "source": [
        "def getTermID(term):\n",
        "    if term in term_dict:\n",
        "      return term_dict[term]\n",
        "    else:\n",
        "      return None\n",
        "\n",
        "def DocLength(doc_id):\n",
        "    length = sum([len(posting) for term_id, posting in doc_dict[int(doc_id)].items()])\n",
        "    return length\n",
        "\n",
        "def TermInfo(term_id):\n",
        "    return info_dict[term_id]\n",
        "\n",
        "def Term_Freq(offset, term, doc):\n",
        "    with open('term_index.txt', 'r', encoding='utf-8') as f:\n",
        "        f.seek(int(offset))\n",
        "        line = f.readline()\n",
        "        line = line.strip().split()\n",
        "        prev_doc=0\n",
        "        tf = 0\n",
        "        if line[0]==term:\n",
        "            for x in line[1:]:\n",
        "                doc_id, position = x.split(\":\")\n",
        "                doc_id=int(doc_id)+prev_doc\n",
        "                prev_doc=doc_id\n",
        "                if doc_id==int(doc):\n",
        "                    tf += 1\n",
        "                elif doc_id>int(doc):\n",
        "                    break\n",
        "        return tf\n",
        "\n",
        "def Normalize(num):\n",
        "  if num==0:\n",
        "    return num\n",
        "  else:\n",
        "    return 1 + math.log(num)\n",
        "\n",
        "def score(queries, method):\n",
        "    scores = {}\n",
        "    for i, query in enumerate(queries):\n",
        "        scores[i+1] = {} \n",
        "        for doc_id in doc_ids:\n",
        "            if method == 'Dirichlet Smoothing':\n",
        "                score = 1\n",
        "            else:\n",
        "                score = 0\n",
        "            length = DocLength(doc_id)\n",
        "            for word in query:\n",
        "                term_id = getTermID(word)\n",
        "                idf = 0\n",
        "                if term_id:\n",
        "                    offset, ttf, df = TermInfo(term_id)\n",
        "                    tf = Term_Freq(offset, term_id, doc_id)\n",
        "                    norm_tf = Normalize(tf)\n",
        "                    if method == 'TF-IDF':\n",
        "                        score += TF_IDF(norm_tf, df)\n",
        "                    elif method == 'Okapi BM25':\n",
        "                        score += OkapiBM25(norm_tf, df, length)\n",
        "                    elif method == 'Dirichlet Smoothing':\n",
        "                        score *= DirichletSmoothing(tf, ttf, length)\n",
        "            scores[i+1][doc_id] = score\n",
        "    return scores"
      ]
    },
    {
      "cell_type": "code",
      "execution_count": 47,
      "metadata": {
        "colab": {
          "base_uri": "https://localhost:8080/"
        },
        "id": "eVx6xc99C2xT",
        "outputId": "4acc0749-fa0b-45dd-9adc-bcf51a99e4c3"
      },
      "outputs": [],
      "source": [
        "stop_words = set(open('Urdu stopwords.txt', 'r', encoding='utf-8').read().splitlines())\n",
        "queries_num = 0\n",
        "with open(\"queries.txt\", \"r\", encoding='utf-8') as f:\n",
        "    queries = []\n",
        "    for line in f:\n",
        "        line = re.sub(r'[^\\w\\s؀-ۿ]', '', line)\n",
        "        tokens = line.split()\n",
        "        words = [word for word in tokens if word not in stop_words]\n",
        "        queries.append(words)\n",
        "        queries_num += 1\n",
        "\n",
        "method = input(\"Enter Scoring Method: \")\n",
        "score_dict = score(queries, method)"
      ]
    },
    {
      "cell_type": "code",
      "execution_count": 48,
      "metadata": {
        "id": "fqb6TbLupA1d"
      },
      "outputs": [],
      "source": [
        "Ranked_Docs = [[]] * queries_num\n",
        "\n",
        "with open('score_DirichletSmoothing.txt', 'w') as f:\n",
        "  for q_id, doc_score in score_dict.items():\n",
        "    data = sorted(doc_score, key=doc_score.get, reverse=True)\n",
        "    rank = 0\n",
        "    for id in data:\n",
        "      rank += 1\n",
        "      f.write(f\"{q_id}\\t{id}\\t{rank}\\t{score_dict[q_id][id]}\\n\")\n",
        "    Ranked_Docs[q_id-1] = data"
      ]
    },
    {
      "attachments": {},
      "cell_type": "markdown",
      "metadata": {},
      "source": [
        "# Precision @ k"
      ]
    },
    {
      "cell_type": "code",
      "execution_count": 49,
      "metadata": {
        "id": "DTKgd7SHt0cM"
      },
      "outputs": [],
      "source": [
        "dfs = pd.read_excel('qrels.xlsx', sheet_name=None)\n",
        "\n",
        "result = pd.DataFrame(columns=['Topic Id', 'Doc Id', 'Doc Relevancy'])\n",
        "\n",
        "for sheet_name, df in dfs.items():\n",
        "    selected_columns = df.iloc[:, [1, 2, 3]]\n",
        "    result = pd.concat([result, selected_columns], axis=0)\n",
        "\n",
        "result = result.reset_index(drop=True)"
      ]
    },
    {
      "cell_type": "code",
      "execution_count": 50,
      "metadata": {
        "id": "efSju9F9wIyn"
      },
      "outputs": [],
      "source": [
        "Actual_Ranks = {}\n",
        "for _, row in result.iterrows():\n",
        "    topic_id = row['Topic Id']\n",
        "    doc_id = row['Doc Id']\n",
        "    doc_relevancy = row['Doc Relevancy']\n",
        "    if topic_id not in Actual_Ranks:\n",
        "        Actual_Ranks[topic_id] = {}\n",
        "    Actual_Ranks[topic_id][doc_id] = 1 if doc_relevancy > 2 else 0"
      ]
    },
    {
      "cell_type": "code",
      "execution_count": 60,
      "metadata": {
        "id": "e2yVMf_zzMqj"
      },
      "outputs": [
        {
          "name": "stdout",
          "output_type": "stream",
          "text": [
            "Precision @  5\n",
            "[0.2, 0.0, 0.0, 0.6, 0.2, 0.4, 0.0, 0.0, 0.6, 0.0]\n",
            "Precision @  10\n",
            "[0.1, 0.0, 0.0, 0.3, 0.1, 0.2, 0.0, 0.0, 0.3, 0.0]\n",
            "Precision @  20\n",
            "[0.05, 0.0, 0.0, 0.15, 0.05, 0.1, 0.0, 0.0, 0.15, 0.0]\n",
            "Precision @  30\n",
            "[0.03333333333333333, 0.0, 0.0, 0.1, 0.03333333333333333, 0.06666666666666667, 0.0, 0.0, 0.1, 0.0]\n"
          ]
        }
      ],
      "source": [
        "def precision_at_k(k):\n",
        "  pre=[]\n",
        "  print(\"Precision @ \",k)\n",
        "  i=0\n",
        "  for rank_list in Ranked_Docs:\n",
        "    precision = 0.0\n",
        "    i += 1\n",
        "    for doc_id in rank_list[:k]:\n",
        "      if int(doc_id) in Actual_Ranks[i] and Actual_Ranks[i][int(doc_id)] == 1:\n",
        "        precision += 1\n",
        "    pre.append(precision/k)\n",
        "  print(pre)\n",
        "\n",
        "precision_at_k(5)\n",
        "precision_at_k(10)\n",
        "precision_at_k(20)\n",
        "precision_at_k(30)"
      ]
    },
    {
      "attachments": {},
      "cell_type": "markdown",
      "metadata": {},
      "source": [
        "# Mean Average Precision"
      ]
    },
    {
      "cell_type": "code",
      "execution_count": 53,
      "metadata": {
        "id": "ig_mpFYZ9FVs"
      },
      "outputs": [],
      "source": [
        "def mean_average_precision(num_docs, output_file):\n",
        "    avg_precision = 0.0\n",
        "    num_queries = len(Ranked_Docs)\n",
        "    \n",
        "    with open(output_file, 'w') as f:\n",
        "        for i, rank_list in enumerate(Ranked_Docs, 1):\n",
        "            precision_sum = 0.0\n",
        "            relevant_docs = {k:v for k,v in Actual_Ranks[i].items() if v==1}\n",
        "            num_relevant = len(relevant_docs)\n",
        "\n",
        "            if num_relevant == 0:\n",
        "                continue\n",
        "\n",
        "            for j in range(num_docs):\n",
        "                doc_id = rank_list[j]\n",
        "                if int(doc_id) in relevant_docs:\n",
        "                    if relevant_docs[int(doc_id)] == 1:\n",
        "                        precision_sum += 1.0\n",
        "                        avg_precision += precision_sum / (j+1)\n",
        "            avg_precision /= num_relevant\n",
        "            f.write(\"Query \"+str(i)+\": \"+str(avg_precision) + '\\n')\n",
        "\n",
        "mean_average_precision(500,\"DirichletSmoothing_MAP.txt\")"
      ]
    }
  ],
  "metadata": {
    "colab": {
      "provenance": []
    },
    "kernelspec": {
      "display_name": "Python 3",
      "name": "python3"
    },
    "language_info": {
      "codemirror_mode": {
        "name": "ipython",
        "version": 3
      },
      "file_extension": ".py",
      "mimetype": "text/x-python",
      "name": "python",
      "nbconvert_exporter": "python",
      "pygments_lexer": "ipython3",
      "version": "3.8.8"
    }
  },
  "nbformat": 4,
  "nbformat_minor": 0
}
